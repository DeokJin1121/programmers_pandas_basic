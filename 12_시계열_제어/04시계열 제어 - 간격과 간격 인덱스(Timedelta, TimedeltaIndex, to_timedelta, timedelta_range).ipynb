{
 "cells": [
  {
   "cell_type": "markdown",
   "id": "8c73dbf4",
   "metadata": {},
   "source": [
    "## Timedelta : 간격, 시간차이 \n",
    "- https://pandas.pydata.org/docs/reference/api/pandas.Timedelta.html\n",
    "- https://pandas.pydata.org/docs/user_guide/cookbook.html#timedeltas\n",
    "- 시각 - 시각 = 1월 2일 - 1월 2일 =  2일 = 시간차이\n",
    "- 시간차 + 시간차 = 1일 + 1일 = 2일 = 시간차이\n",
    "- 시간차-시간차 = 3일 - 1일 = 2일 = 시간차이"
   ]
  },
  {
   "cell_type": "code",
   "execution_count": 1,
   "id": "7f7de7b8",
   "metadata": {},
   "outputs": [],
   "source": [
    "import pandas as pd"
   ]
  },
  {
   "cell_type": "code",
   "execution_count": 2,
   "id": "85ddcaca",
   "metadata": {},
   "outputs": [],
   "source": [
    "time1 = pd.Timestamp('2023.01.01 14:00')\n",
    "time2 = pd.Timestamp('2023.12.31 14:20')"
   ]
  },
  {
   "cell_type": "code",
   "execution_count": 3,
   "id": "1ec75521",
   "metadata": {},
   "outputs": [
    {
     "data": {
      "text/plain": [
       "Timedelta('364 days 00:20:00')"
      ]
     },
     "execution_count": 3,
     "metadata": {},
     "output_type": "execute_result"
    }
   ],
   "source": [
    "interval = time2 - time1\n",
    "interval"
   ]
  },
  {
   "cell_type": "markdown",
   "id": "fde4b180",
   "metadata": {},
   "source": [
    "## to_timedelta()\n",
    "- https://pandas.pydata.org/docs/reference/api/pandas.to_timedelta.html\n",
    "- https://pandas.pydata.org/docs/user_guide/timedeltas.html#to-timedelta\n",
    "\n",
    "#### `unit=` : str, optional\n",
    "- 숫자 인자 기본 단위. 기본값 'ns'\n",
    "- 'W'\n",
    "- 'D' / 'days' / 'day'\n",
    "- 'hours' / 'hour' / 'hr' / 'h'\n",
    "- 'm' / 'minute' / 'min' / 'minutes' / 'T'\n",
    "- 'S' / 'seconds' / 'sec' / 'second'\n",
    "- 'ms' / 'milliseconds' / 'millisecond' / 'milli' / 'millis' / 'L'\n",
    "- 'us' / 'microseconds' / 'microsecond' / 'micro' / 'micros' / 'U'\n",
    "- 'ns' / 'nanoseconds' / 'nano' / 'nanos' / 'nanosecond' / 'N'"
   ]
  },
  {
   "cell_type": "code",
   "execution_count": 5,
   "id": "754de31a",
   "metadata": {},
   "outputs": [],
   "source": [
    "texts = [\n",
    "    \"2d\",\n",
    "    \"2days\",\n",
    "    \"2 days\"    \n",
    "]"
   ]
  },
  {
   "cell_type": "code",
   "execution_count": 6,
   "id": "bf225763",
   "metadata": {},
   "outputs": [
    {
     "name": "stdout",
     "output_type": "stream",
     "text": [
      "2 days 00:00:00\n",
      "2 days 00:00:00\n",
      "2 days 00:00:00\n"
     ]
    }
   ],
   "source": [
    "for t in texts:\n",
    "    print(pd.to_timedelta(t))"
   ]
  },
  {
   "cell_type": "code",
   "execution_count": 7,
   "id": "192fb40d",
   "metadata": {},
   "outputs": [
    {
     "data": {
      "text/plain": [
       "Timedelta('6 days 00:00:00')"
      ]
     },
     "execution_count": 7,
     "metadata": {},
     "output_type": "execute_result"
    }
   ],
   "source": [
    "pd.to_timedelta('2days 2days 2days')"
   ]
  },
  {
   "cell_type": "code",
   "execution_count": 8,
   "id": "5647663c",
   "metadata": {},
   "outputs": [],
   "source": [
    "texts = [\n",
    "    \"5W 4D 3H 2m 1S\",\n",
    "    \"2days 4hours\",\n",
    "    [\"1D\", \"2D\", \"3D\"]\n",
    "]"
   ]
  },
  {
   "cell_type": "code",
   "execution_count": 9,
   "id": "cfb3da5a",
   "metadata": {
    "scrolled": true
   },
   "outputs": [
    {
     "name": "stdout",
     "output_type": "stream",
     "text": [
      "39 days 03:02:01\n",
      "2 days 04:00:00\n",
      "TimedeltaIndex(['1 days', '2 days', '3 days'], dtype='timedelta64[ns]', freq=None)\n"
     ]
    },
    {
     "name": "stderr",
     "output_type": "stream",
     "text": [
      "C:\\Users\\ejrwl\\AppData\\Local\\Temp\\ipykernel_11528\\343196416.py:2: FutureWarning: 'H' is deprecated and will be removed in a future version. Please use 'h' instead of 'H'.\n",
      "  print(pd.to_timedelta(t))\n",
      "C:\\Users\\ejrwl\\AppData\\Local\\Temp\\ipykernel_11528\\343196416.py:2: FutureWarning: 'S' is deprecated and will be removed in a future version. Please use 's' instead of 'S'.\n",
      "  print(pd.to_timedelta(t))\n"
     ]
    }
   ],
   "source": [
    "for t in texts:\n",
    "    print(pd.to_timedelta(t))"
   ]
  },
  {
   "cell_type": "markdown",
   "id": "785504d6",
   "metadata": {},
   "source": [
    "### unit에 왜 Month, Year는 없을까?"
   ]
  },
  {
   "cell_type": "markdown",
   "id": "11b7d7c8",
   "metadata": {},
   "source": [
    "- 1년은 며칠?\n",
    "- 1달은 며칠?"
   ]
  },
  {
   "cell_type": "markdown",
   "id": "cd7061b9",
   "metadata": {},
   "source": [
    "## timedelta_range()\n",
    "- https://pandas.pydata.org/docs/reference/api/pandas.timedelta_range.html"
   ]
  },
  {
   "cell_type": "code",
   "execution_count": 11,
   "id": "f2ea18d7",
   "metadata": {},
   "outputs": [
    {
     "data": {
      "text/plain": [
       "TimedeltaIndex([ '1 days',  '2 days',  '3 days',  '4 days',  '5 days',\n",
       "                 '6 days',  '7 days',  '8 days',  '9 days', '10 days'],\n",
       "               dtype='timedelta64[ns]', freq='D')"
      ]
     },
     "execution_count": 11,
     "metadata": {},
     "output_type": "execute_result"
    }
   ],
   "source": [
    "# 1일 경과 2일 경과... 같은 연산을 하기위한\n",
    "pd.timedelta_range(start='1days', periods=10)"
   ]
  },
  {
   "cell_type": "code",
   "execution_count": 12,
   "id": "ba5add9a",
   "metadata": {},
   "outputs": [
    {
     "data": {
      "text/plain": [
       "TimedeltaIndex(['1 days 00:00:00', '1 days 01:00:00', '1 days 02:00:00',\n",
       "                '1 days 03:00:00', '1 days 04:00:00', '1 days 05:00:00',\n",
       "                '1 days 06:00:00', '1 days 07:00:00', '1 days 08:00:00',\n",
       "                '1 days 09:00:00'],\n",
       "               dtype='timedelta64[ns]', freq='h')"
      ]
     },
     "execution_count": 12,
     "metadata": {},
     "output_type": "execute_result"
    }
   ],
   "source": [
    "# 시도 : 1시간 경과 2시간 경과... 같은 연산을 하기위한\n",
    "pd.timedelta_range(start='1days', periods=10, freq='h')"
   ]
  },
  {
   "cell_type": "code",
   "execution_count": 13,
   "id": "9a397b8a",
   "metadata": {},
   "outputs": [
    {
     "data": {
      "text/plain": [
       "TimedeltaIndex(['0 days 00:00:00', '0 days 01:00:00', '0 days 02:00:00',\n",
       "                '0 days 03:00:00', '0 days 04:00:00', '0 days 05:00:00',\n",
       "                '0 days 06:00:00', '0 days 07:00:00', '0 days 08:00:00',\n",
       "                '0 days 09:00:00'],\n",
       "               dtype='timedelta64[ns]', freq='h')"
      ]
     },
     "execution_count": 13,
     "metadata": {},
     "output_type": "execute_result"
    }
   ],
   "source": [
    "# 1시간 경과 2시간 경과... 같은 연산을 하기위한\n",
    "pd.timedelta_range(start='0', periods=10, freq='h')"
   ]
  },
  {
   "cell_type": "code",
   "execution_count": 16,
   "id": "18020f13",
   "metadata": {},
   "outputs": [
    {
     "data": {
      "text/plain": [
       "TimedeltaIndex(['0 days 00:00:00', '0 days 10:00:00', '0 days 20:00:00',\n",
       "                '1 days 06:00:00', '1 days 16:00:00', '2 days 02:00:00',\n",
       "                '2 days 12:00:00', '2 days 22:00:00', '3 days 08:00:00',\n",
       "                '3 days 18:00:00'],\n",
       "               dtype='timedelta64[ns]', freq='10h')"
      ]
     },
     "execution_count": 16,
     "metadata": {},
     "output_type": "execute_result"
    }
   ],
   "source": [
    "# 10시간 경과 20시간 경과... 같은 연산을 하기위한\n",
    "pd.timedelta_range(start='0', periods=10, freq='10h')"
   ]
  },
  {
   "cell_type": "code",
   "execution_count": 19,
   "id": "24c9ca65",
   "metadata": {
    "scrolled": true
   },
   "outputs": [
    {
     "data": {
      "text/plain": [
       "TimedeltaIndex([ '1 days 00:00:00',  '3 days 06:00:00',  '5 days 12:00:00',\n",
       "                 '7 days 18:00:00', '10 days 00:00:00'],\n",
       "               dtype='timedelta64[ns]', freq=None)"
      ]
     },
     "execution_count": 19,
     "metadata": {},
     "output_type": "execute_result"
    }
   ],
   "source": [
    "# freq은 모르겠고, 1일~10일을 5영역으로 나누고 싶다면\n",
    "pd.timedelta_range(start='1d', end='10d', periods=5)"
   ]
  },
  {
   "cell_type": "markdown",
   "id": "1e16c32d",
   "metadata": {},
   "source": [
    "## `closed=` \n",
    "- 끝점의 포함 여부\n",
    "-  'left', 'right', None(both)\n",
    "    - None: 기본값. 끝점 모두 포함.\n",
    "    - 'left': 시작점을 포함.\n",
    "    - 'right': 종료점을 포함."
   ]
  },
  {
   "cell_type": "code",
   "execution_count": 20,
   "id": "aad7d8cb",
   "metadata": {
    "scrolled": true
   },
   "outputs": [
    {
     "data": {
      "text/plain": [
       "TimedeltaIndex([ '1 days 00:00:00',  '3 days 06:00:00',  '5 days 12:00:00',\n",
       "                 '7 days 18:00:00', '10 days 00:00:00'],\n",
       "               dtype='timedelta64[ns]', freq=None)"
      ]
     },
     "execution_count": 20,
     "metadata": {},
     "output_type": "execute_result"
    }
   ],
   "source": [
    "# freq은 모르겠고, 1일~10일을 5영역으로 나누고 싶다면 + 양끝점 포함\n",
    "pd.timedelta_range(start='1d', end='10d', periods=5, closed=None)"
   ]
  },
  {
   "cell_type": "code",
   "execution_count": 21,
   "id": "47a69570",
   "metadata": {},
   "outputs": [
    {
     "data": {
      "text/plain": [
       "TimedeltaIndex(['3 days 06:00:00', '5 days 12:00:00', '7 days 18:00:00',\n",
       "                '10 days 00:00:00'],\n",
       "               dtype='timedelta64[ns]', freq=None)"
      ]
     },
     "execution_count": 21,
     "metadata": {},
     "output_type": "execute_result"
    }
   ],
   "source": [
    "# freq은 모르겠고, 1일~10일을 5영역으로 나누고 싶다면 + 종료점 포함\n",
    "pd.timedelta_range(start='1d', end='10d', periods=5, closed='right')"
   ]
  },
  {
   "cell_type": "code",
   "execution_count": 22,
   "id": "88b26d7d",
   "metadata": {},
   "outputs": [
    {
     "data": {
      "text/plain": [
       "TimedeltaIndex(['1 days 00:00:00', '3 days 06:00:00', '5 days 12:00:00',\n",
       "                '7 days 18:00:00'],\n",
       "               dtype='timedelta64[ns]', freq=None)"
      ]
     },
     "execution_count": 22,
     "metadata": {},
     "output_type": "execute_result"
    }
   ],
   "source": [
    "# freq은 모르겠고, 1일~10일을 5영역으로 나누고 싶다면 + 시작점 포함\n",
    "pd.timedelta_range(start='1d', end='10d', periods=5, closed='left')"
   ]
  }
 ],
 "metadata": {
  "kernelspec": {
   "display_name": "Python 3 (ipykernel)",
   "language": "python",
   "name": "python3"
  },
  "language_info": {
   "codemirror_mode": {
    "name": "ipython",
    "version": 3
   },
   "file_extension": ".py",
   "mimetype": "text/x-python",
   "name": "python",
   "nbconvert_exporter": "python",
   "pygments_lexer": "ipython3",
   "version": "3.12.0"
  }
 },
 "nbformat": 4,
 "nbformat_minor": 5
}
