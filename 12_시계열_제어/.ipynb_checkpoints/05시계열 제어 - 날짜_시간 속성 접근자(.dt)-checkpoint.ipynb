{
 "cells": [
  {
   "cell_type": "markdown",
   "id": "8c73dbf4",
   "metadata": {},
   "source": [
    "## 날짜/시간 속성 접근자 .dt\n",
    "- https://pandas.pydata.org/pandas-docs/version/1.5/reference/api/pandas.Series.dt.html\n",
    "- **시리즈**에서 날짜와 시간과 관련된 속성에 접근할 때 사용되는 기능\n",
    "- `.str`처럼 `.dt.메소드`, `.dt.속성` 으로 사용\n",
    "    - 속성(properties) : https://pandas.pydata.org/docs/reference/series.html#datetime-properties\n",
    "    - 메소드(methods) : https://pandas.pydata.org/docs/reference/series.html#datetime-methods"
   ]
  },
  {
   "cell_type": "code",
   "execution_count": 1,
   "id": "7f7de7b8",
   "metadata": {},
   "outputs": [],
   "source": [
    "import pandas as pd"
   ]
  },
  {
   "cell_type": "code",
   "execution_count": 2,
   "id": "a474d78e",
   "metadata": {},
   "outputs": [
    {
     "data": {
      "text/plain": [
       "DatetimeIndex(['2024-12-02', '2024-12-09', '2024-12-16', '2024-12-23',\n",
       "               '2024-12-30'],\n",
       "              dtype='datetime64[ns]', freq='W-MON')"
      ]
     },
     "execution_count": 2,
     "metadata": {},
     "output_type": "execute_result"
    }
   ],
   "source": [
    "dec = pd.date_range('2024.12.01', '2024.12.31', freq='W-MON')\n",
    "dec"
   ]
  },
  {
   "cell_type": "code",
   "execution_count": 3,
   "id": "bf1ebce3",
   "metadata": {
    "scrolled": true
   },
   "outputs": [
    {
     "data": {
      "text/plain": [
       "0   2024-12-02\n",
       "1   2024-12-09\n",
       "2   2024-12-16\n",
       "3   2024-12-23\n",
       "4   2024-12-30\n",
       "dtype: datetime64[ns]"
      ]
     },
     "execution_count": 3,
     "metadata": {},
     "output_type": "execute_result"
    }
   ],
   "source": [
    "# Series 화\n",
    "pd.Series(dec)"
   ]
  },
  {
   "cell_type": "code",
   "execution_count": 4,
   "id": "db9bdaee",
   "metadata": {},
   "outputs": [
    {
     "data": {
      "text/html": [
       "<div>\n",
       "<style scoped>\n",
       "    .dataframe tbody tr th:only-of-type {\n",
       "        vertical-align: middle;\n",
       "    }\n",
       "\n",
       "    .dataframe tbody tr th {\n",
       "        vertical-align: top;\n",
       "    }\n",
       "\n",
       "    .dataframe thead th {\n",
       "        text-align: right;\n",
       "    }\n",
       "</style>\n",
       "<table border=\"1\" class=\"dataframe\">\n",
       "  <thead>\n",
       "    <tr style=\"text-align: right;\">\n",
       "      <th></th>\n",
       "      <th>Weeks</th>\n",
       "    </tr>\n",
       "  </thead>\n",
       "  <tbody>\n",
       "    <tr>\n",
       "      <th>0</th>\n",
       "      <td>2024-12-02</td>\n",
       "    </tr>\n",
       "    <tr>\n",
       "      <th>1</th>\n",
       "      <td>2024-12-09</td>\n",
       "    </tr>\n",
       "    <tr>\n",
       "      <th>2</th>\n",
       "      <td>2024-12-16</td>\n",
       "    </tr>\n",
       "    <tr>\n",
       "      <th>3</th>\n",
       "      <td>2024-12-23</td>\n",
       "    </tr>\n",
       "    <tr>\n",
       "      <th>4</th>\n",
       "      <td>2024-12-30</td>\n",
       "    </tr>\n",
       "  </tbody>\n",
       "</table>\n",
       "</div>"
      ],
      "text/plain": [
       "       Weeks\n",
       "0 2024-12-02\n",
       "1 2024-12-09\n",
       "2 2024-12-16\n",
       "3 2024-12-23\n",
       "4 2024-12-30"
      ]
     },
     "execution_count": 4,
     "metadata": {},
     "output_type": "execute_result"
    }
   ],
   "source": [
    "# DataFrame화\n",
    "pd.DataFrame(dec, columns=['Weeks'])"
   ]
  },
  {
   "cell_type": "code",
   "execution_count": 5,
   "id": "2002358e",
   "metadata": {},
   "outputs": [
    {
     "data": {
      "text/html": [
       "<div>\n",
       "<style scoped>\n",
       "    .dataframe tbody tr th:only-of-type {\n",
       "        vertical-align: middle;\n",
       "    }\n",
       "\n",
       "    .dataframe tbody tr th {\n",
       "        vertical-align: top;\n",
       "    }\n",
       "\n",
       "    .dataframe thead th {\n",
       "        text-align: right;\n",
       "    }\n",
       "</style>\n",
       "<table border=\"1\" class=\"dataframe\">\n",
       "  <thead>\n",
       "    <tr style=\"text-align: right;\">\n",
       "      <th></th>\n",
       "      <th>Weeks</th>\n",
       "    </tr>\n",
       "  </thead>\n",
       "  <tbody>\n",
       "    <tr>\n",
       "      <th>2024-12-02</th>\n",
       "      <td>2024-12-02</td>\n",
       "    </tr>\n",
       "    <tr>\n",
       "      <th>2024-12-09</th>\n",
       "      <td>2024-12-09</td>\n",
       "    </tr>\n",
       "    <tr>\n",
       "      <th>2024-12-16</th>\n",
       "      <td>2024-12-16</td>\n",
       "    </tr>\n",
       "    <tr>\n",
       "      <th>2024-12-23</th>\n",
       "      <td>2024-12-23</td>\n",
       "    </tr>\n",
       "    <tr>\n",
       "      <th>2024-12-30</th>\n",
       "      <td>2024-12-30</td>\n",
       "    </tr>\n",
       "  </tbody>\n",
       "</table>\n",
       "</div>"
      ],
      "text/plain": [
       "                Weeks\n",
       "2024-12-02 2024-12-02\n",
       "2024-12-09 2024-12-09\n",
       "2024-12-16 2024-12-16\n",
       "2024-12-23 2024-12-23\n",
       "2024-12-30 2024-12-30"
      ]
     },
     "execution_count": 5,
     "metadata": {},
     "output_type": "execute_result"
    }
   ],
   "source": [
    "# 체인형으로 프로그래밍 하고 싶다면 .to_frame()\n",
    "dec.to_frame(name='Weeks')"
   ]
  },
  {
   "cell_type": "code",
   "execution_count": 6,
   "id": "77a7342c-f748-474e-b284-1f0bf3164520",
   "metadata": {},
   "outputs": [
    {
     "name": "stdout",
     "output_type": "stream",
     "text": [
      "<class 'pandas.core.frame.DataFrame'>\n",
      "DatetimeIndex: 5 entries, 2024-12-02 to 2024-12-30\n",
      "Freq: W-MON\n",
      "Data columns (total 1 columns):\n",
      " #   Column  Non-Null Count  Dtype         \n",
      "---  ------  --------------  -----         \n",
      " 0   Weeks   5 non-null      datetime64[ns]\n",
      "dtypes: datetime64[ns](1)\n",
      "memory usage: 80.0 bytes\n"
     ]
    }
   ],
   "source": [
    "dec.to_frame(name='Weeks').info()"
   ]
  },
  {
   "cell_type": "code",
   "execution_count": 7,
   "id": "0aae7fda",
   "metadata": {},
   "outputs": [
    {
     "data": {
      "text/html": [
       "<div>\n",
       "<style scoped>\n",
       "    .dataframe tbody tr th:only-of-type {\n",
       "        vertical-align: middle;\n",
       "    }\n",
       "\n",
       "    .dataframe tbody tr th {\n",
       "        vertical-align: top;\n",
       "    }\n",
       "\n",
       "    .dataframe thead th {\n",
       "        text-align: right;\n",
       "    }\n",
       "</style>\n",
       "<table border=\"1\" class=\"dataframe\">\n",
       "  <thead>\n",
       "    <tr style=\"text-align: right;\">\n",
       "      <th></th>\n",
       "      <th>Weeks</th>\n",
       "    </tr>\n",
       "  </thead>\n",
       "  <tbody>\n",
       "    <tr>\n",
       "      <th>0</th>\n",
       "      <td>2024-12-02</td>\n",
       "    </tr>\n",
       "    <tr>\n",
       "      <th>1</th>\n",
       "      <td>2024-12-09</td>\n",
       "    </tr>\n",
       "    <tr>\n",
       "      <th>2</th>\n",
       "      <td>2024-12-16</td>\n",
       "    </tr>\n",
       "    <tr>\n",
       "      <th>3</th>\n",
       "      <td>2024-12-23</td>\n",
       "    </tr>\n",
       "    <tr>\n",
       "      <th>4</th>\n",
       "      <td>2024-12-30</td>\n",
       "    </tr>\n",
       "  </tbody>\n",
       "</table>\n",
       "</div>"
      ],
      "text/plain": [
       "       Weeks\n",
       "0 2024-12-02\n",
       "1 2024-12-09\n",
       "2 2024-12-16\n",
       "3 2024-12-23\n",
       "4 2024-12-30"
      ]
     },
     "execution_count": 7,
     "metadata": {},
     "output_type": "execute_result"
    }
   ],
   "source": [
    "# Series화 > .toFrame을 통한 DataFrame\n",
    "pd.Series(dec).to_frame('Weeks')"
   ]
  },
  {
   "cell_type": "markdown",
   "id": "b0607fbf",
   "metadata": {},
   "source": [
    "- 시리즈화를 직접하진 않고, DataFrame에서 조회하면 시리즈일 것\n",
    "- 때문에 `pd.Series(dec).to_frame({name})` 형태를 기억하기"
   ]
  },
  {
   "cell_type": "code",
   "execution_count": 8,
   "id": "53e339d7",
   "metadata": {
    "scrolled": true
   },
   "outputs": [
    {
     "name": "stdout",
     "output_type": "stream",
     "text": [
      "<class 'pandas.core.frame.DataFrame'>\n",
      "RangeIndex: 5 entries, 0 to 4\n",
      "Data columns (total 1 columns):\n",
      " #   Column  Non-Null Count  Dtype         \n",
      "---  ------  --------------  -----         \n",
      " 0   Weeks   5 non-null      datetime64[ns]\n",
      "dtypes: datetime64[ns](1)\n",
      "memory usage: 172.0 bytes\n"
     ]
    }
   ],
   "source": [
    "dec_df = pd.Series(dec).to_frame('Weeks')\n",
    "dec_df.info()"
   ]
  },
  {
   "cell_type": "markdown",
   "id": "bca6b4c5",
   "metadata": {},
   "source": [
    "## `.dt`로 속성 접근"
   ]
  },
  {
   "cell_type": "markdown",
   "id": "3fa53293",
   "metadata": {},
   "source": [
    "- 속성(properties) : https://pandas.pydata.org/docs/reference/series.html#datetime-properties\n",
    "- 메소드(methods) : https://pandas.pydata.org/docs/reference/series.html#datetime-methods"
   ]
  },
  {
   "cell_type": "code",
   "execution_count": 9,
   "id": "2fe842a7",
   "metadata": {},
   "outputs": [
    {
     "data": {
      "text/plain": [
       "<pandas.core.indexes.accessors.DatetimeProperties object at 0x0000026449CB12B0>"
      ]
     },
     "execution_count": 9,
     "metadata": {},
     "output_type": "execute_result"
    }
   ],
   "source": [
    "# .dt를 통해 속성(Properties) 접근 객체 생성\n",
    "dec_df['Weeks'].dt"
   ]
  },
  {
   "cell_type": "code",
   "execution_count": 10,
   "id": "58deca55",
   "metadata": {
    "scrolled": true
   },
   "outputs": [
    {
     "ename": "AttributeError",
     "evalue": "'Series' object has no attribute 'day'",
     "output_type": "error",
     "traceback": [
      "\u001b[1;31m---------------------------------------------------------------------------\u001b[0m",
      "\u001b[1;31mAttributeError\u001b[0m                            Traceback (most recent call last)",
      "Cell \u001b[1;32mIn[10], line 2\u001b[0m\n\u001b[0;32m      1\u001b[0m \u001b[38;5;66;03m# Python Datetime하듯 .day로 바로 접근하면 에러\u001b[39;00m\n\u001b[1;32m----> 2\u001b[0m dec_df[\u001b[38;5;124m'\u001b[39m\u001b[38;5;124mWeeks\u001b[39m\u001b[38;5;124m'\u001b[39m]\u001b[38;5;241m.\u001b[39mday\n",
      "File \u001b[1;32m~\\anaconda3\\envs\\py3_11\\Lib\\site-packages\\pandas\\core\\generic.py:6299\u001b[0m, in \u001b[0;36mNDFrame.__getattr__\u001b[1;34m(self, name)\u001b[0m\n\u001b[0;32m   6292\u001b[0m \u001b[38;5;28;01mif\u001b[39;00m (\n\u001b[0;32m   6293\u001b[0m     name \u001b[38;5;129;01mnot\u001b[39;00m \u001b[38;5;129;01min\u001b[39;00m \u001b[38;5;28mself\u001b[39m\u001b[38;5;241m.\u001b[39m_internal_names_set\n\u001b[0;32m   6294\u001b[0m     \u001b[38;5;129;01mand\u001b[39;00m name \u001b[38;5;129;01mnot\u001b[39;00m \u001b[38;5;129;01min\u001b[39;00m \u001b[38;5;28mself\u001b[39m\u001b[38;5;241m.\u001b[39m_metadata\n\u001b[0;32m   6295\u001b[0m     \u001b[38;5;129;01mand\u001b[39;00m name \u001b[38;5;129;01mnot\u001b[39;00m \u001b[38;5;129;01min\u001b[39;00m \u001b[38;5;28mself\u001b[39m\u001b[38;5;241m.\u001b[39m_accessors\n\u001b[0;32m   6296\u001b[0m     \u001b[38;5;129;01mand\u001b[39;00m \u001b[38;5;28mself\u001b[39m\u001b[38;5;241m.\u001b[39m_info_axis\u001b[38;5;241m.\u001b[39m_can_hold_identifiers_and_holds_name(name)\n\u001b[0;32m   6297\u001b[0m ):\n\u001b[0;32m   6298\u001b[0m     \u001b[38;5;28;01mreturn\u001b[39;00m \u001b[38;5;28mself\u001b[39m[name]\n\u001b[1;32m-> 6299\u001b[0m \u001b[38;5;28;01mreturn\u001b[39;00m \u001b[38;5;28mobject\u001b[39m\u001b[38;5;241m.\u001b[39m\u001b[38;5;21m__getattribute__\u001b[39m(\u001b[38;5;28mself\u001b[39m, name)\n",
      "\u001b[1;31mAttributeError\u001b[0m: 'Series' object has no attribute 'day'"
     ]
    }
   ],
   "source": [
    "# Python Datetime하듯 .day로 바로 접근하면 에러\n",
    "dec_df['Weeks'].day"
   ]
  },
  {
   "cell_type": "code",
   "execution_count": 11,
   "id": "bc326a8c",
   "metadata": {},
   "outputs": [
    {
     "data": {
      "text/plain": [
       "0     2\n",
       "1     9\n",
       "2    16\n",
       "3    23\n",
       "4    30\n",
       "Name: Weeks, dtype: int32"
      ]
     },
     "execution_count": 11,
     "metadata": {},
     "output_type": "execute_result"
    }
   ],
   "source": [
    "# 중간에 .dt 넣으면\n",
    "dec_df['Weeks'].dt.day"
   ]
  },
  {
   "cell_type": "code",
   "execution_count": 12,
   "id": "d3de90c3",
   "metadata": {},
   "outputs": [
    {
     "data": {
      "text/plain": [
       "0    2024\n",
       "1    2024\n",
       "2    2024\n",
       "3    2024\n",
       "4    2024\n",
       "Name: Weeks, dtype: int32"
      ]
     },
     "execution_count": 12,
     "metadata": {},
     "output_type": "execute_result"
    }
   ],
   "source": [
    "dec_df['Weeks'].dt.year"
   ]
  },
  {
   "cell_type": "code",
   "execution_count": 13,
   "id": "74be3a6e",
   "metadata": {},
   "outputs": [
    {
     "data": {
      "text/plain": [
       "0    12\n",
       "1    12\n",
       "2    12\n",
       "3    12\n",
       "4    12\n",
       "Name: Weeks, dtype: int32"
      ]
     },
     "execution_count": 13,
     "metadata": {},
     "output_type": "execute_result"
    }
   ],
   "source": [
    "dec_df['Weeks'].dt.month"
   ]
  },
  {
   "cell_type": "code",
   "execution_count": 14,
   "id": "7b1c99f7",
   "metadata": {},
   "outputs": [
    {
     "data": {
      "text/plain": [
       "0    Monday\n",
       "1    Monday\n",
       "2    Monday\n",
       "3    Monday\n",
       "4    Monday\n",
       "Name: Weeks, dtype: object"
      ]
     },
     "execution_count": 14,
     "metadata": {},
     "output_type": "execute_result"
    }
   ],
   "source": [
    "dec_df['Weeks'].dt.day_name()"
   ]
  },
  {
   "cell_type": "code",
   "execution_count": 15,
   "id": "1a7e53b9",
   "metadata": {},
   "outputs": [
    {
     "data": {
      "text/plain": [
       "0    2024-11-26/2024-12-02\n",
       "1    2024-12-03/2024-12-09\n",
       "2    2024-12-10/2024-12-16\n",
       "3    2024-12-17/2024-12-23\n",
       "4    2024-12-24/2024-12-30\n",
       "Name: Weeks, dtype: period[W-MON]"
      ]
     },
     "execution_count": 15,
     "metadata": {},
     "output_type": "execute_result"
    }
   ],
   "source": [
    "dec_df['Weeks'].dt.to_period()"
   ]
  },
  {
   "cell_type": "code",
   "execution_count": 16,
   "id": "d4615c81",
   "metadata": {},
   "outputs": [
    {
     "data": {
      "text/plain": [
       "0    December 12/02/24, 2024, 12:00:00 AM\n",
       "1    December 12/09/24, 2024, 12:00:00 AM\n",
       "2    December 12/16/24, 2024, 12:00:00 AM\n",
       "3    December 12/23/24, 2024, 12:00:00 AM\n",
       "4    December 12/30/24, 2024, 12:00:00 AM\n",
       "Name: Weeks, dtype: object"
      ]
     },
     "execution_count": 16,
     "metadata": {},
     "output_type": "execute_result"
    }
   ],
   "source": [
    "dec_df['Weeks'].dt.strftime('%B %D, %Y, %r')"
   ]
  },
  {
   "cell_type": "code",
   "execution_count": 17,
   "id": "ac79aa19",
   "metadata": {},
   "outputs": [
    {
     "data": {
      "text/plain": [
       "0    2024년 12월 02일\n",
       "1    2024년 12월 09일\n",
       "2    2024년 12월 16일\n",
       "3    2024년 12월 23일\n",
       "4    2024년 12월 30일\n",
       "Name: Weeks, dtype: object"
      ]
     },
     "execution_count": 17,
     "metadata": {},
     "output_type": "execute_result"
    }
   ],
   "source": [
    "dec_df['Weeks'].dt.strftime('%Y년 %m월 %d일')"
   ]
  }
 ],
 "metadata": {
  "kernelspec": {
   "display_name": "Python 3 (ipykernel)",
   "language": "python",
   "name": "python3"
  },
  "language_info": {
   "codemirror_mode": {
    "name": "ipython",
    "version": 3
   },
   "file_extension": ".py",
   "mimetype": "text/x-python",
   "name": "python",
   "nbconvert_exporter": "python",
   "pygments_lexer": "ipython3",
   "version": "3.12.0"
  }
 },
 "nbformat": 4,
 "nbformat_minor": 5
}
