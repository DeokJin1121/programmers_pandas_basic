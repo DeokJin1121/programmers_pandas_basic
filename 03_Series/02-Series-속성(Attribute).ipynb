{
 "cells": [
  {
   "cell_type": "markdown",
   "id": "8fb5e135",
   "metadata": {},
   "source": [
    "# Series 속성\n",
    "- https://pandas.pydata.org/docs/reference/api/pandas.Series.html"
   ]
  },
  {
   "cell_type": "code",
   "execution_count": 27,
   "id": "0ee8c027",
   "metadata": {},
   "outputs": [],
   "source": [
    "import pandas as pd"
   ]
  },
  {
   "cell_type": "code",
   "execution_count": 29,
   "id": "d3f2ed12",
   "metadata": {},
   "outputs": [
    {
     "data": {
      "text/plain": [
       "([1, 2, 3, 4, 5, 6], ['s', 'p', 'e', 'm', 'c', 'e', 'r'])"
      ]
     },
     "execution_count": 29,
     "metadata": {},
     "output_type": "execute_result"
    }
   ],
   "source": [
    "numbers = list(range(1, 7))\n",
    "letters =list(\"spemcer\")\n",
    "numbers, letters"
   ]
  },
  {
   "cell_type": "code",
   "execution_count": 53,
   "id": "a817a847",
   "metadata": {},
   "outputs": [
    {
     "data": {
      "text/plain": [
       "0    1\n",
       "1    2\n",
       "2    3\n",
       "3    4\n",
       "4    5\n",
       "5    6\n",
       "dtype: int64"
      ]
     },
     "execution_count": 53,
     "metadata": {},
     "output_type": "execute_result"
    }
   ],
   "source": [
    "number_series = pd.Series(numbers)\n",
    "number_series"
   ]
  },
  {
   "cell_type": "code",
   "execution_count": 51,
   "id": "cb52909e",
   "metadata": {
    "scrolled": true
   },
   "outputs": [
    {
     "data": {
      "text/plain": [
       "0    s\n",
       "1    p\n",
       "2    e\n",
       "3    m\n",
       "4    c\n",
       "5    e\n",
       "6    r\n",
       "dtype: object"
      ]
     },
     "execution_count": 51,
     "metadata": {},
     "output_type": "execute_result"
    }
   ],
   "source": [
    "letters_series = pd.Series(letters)\n",
    "letters_series"
   ]
  },
  {
   "cell_type": "markdown",
   "id": "9a8478ad",
   "metadata": {},
   "source": [
    "## .dtype"
   ]
  },
  {
   "cell_type": "code",
   "execution_count": 55,
   "id": "269440ee",
   "metadata": {},
   "outputs": [
    {
     "data": {
      "text/plain": [
       "dtype('int64')"
      ]
     },
     "execution_count": 55,
     "metadata": {},
     "output_type": "execute_result"
    }
   ],
   "source": [
    "# dtype : 시리즈가 반환하는(담고있는) 데이터 타입\n",
    "number_series.dtype"
   ]
  },
  {
   "cell_type": "markdown",
   "id": "6ee31bb8",
   "metadata": {},
   "source": [
    "- https://pandas.pydata.org/docs/user_guide/basics.html#basics-dtypes\n",
    "- 기본적으로 object에 표현할 수 있는 데이터는 int64, float64 등으로 표현된다.\n",
    "- '0'으로 dtype이 나온다면 object를 의미한다.\n",
    "\n",
    "**주로 보이는 dtype들**\n",
    "| dtype      | 설명                      |\n",
    "|------------|--------------------------|\n",
    "| int64      | 정수형 데이터               |\n",
    "| float64    | 실수형 데이터               |\n",
    "| object     | 문자열 데이터               |\n",
    "| bool       | 불리언(참/거짓) 데이터        |\n",
    "| datetime64 | 날짜 및 시간 데이터          |\n",
    "| timedelta  | 두 날짜 또는 시간 간격 데이터  |\n",
    "| category   | 카테고리 형식의 데이터        |\n",
    "| int8       | 8비트 정수형 데이터          |\n",
    "| int16      | 16비트 정수형 데이터         |\n",
    "| int32      | 32비트 정수형 데이터         |\n",
    "| float16    | 16비트 실수형 데이터         |\n",
    "| float32    | 32비트 실수형 데이터         |\n",
    "| complex64  | 64비트 복소수형 데이터        |\n",
    "| complex128 | 128비트 복소수형 데이터       |\n"
   ]
  },
  {
   "cell_type": "markdown",
   "id": "5d6eb7d8",
   "metadata": {},
   "source": [
    "## .index"
   ]
  },
  {
   "cell_type": "code",
   "execution_count": 41,
   "id": "f99be11b-2fe9-43e1-98e7-84e429a757ce",
   "metadata": {
    "scrolled": true
   },
   "outputs": [
    {
     "data": {
      "text/plain": [
       "RangeIndex(start=0, stop=7, step=1)"
      ]
     },
     "execution_count": 41,
     "metadata": {},
     "output_type": "execute_result"
    }
   ],
   "source": [
    "number_series.index"
   ]
  },
  {
   "cell_type": "code",
   "execution_count": 39,
   "id": "aa87b2a3",
   "metadata": {
    "scrolled": true
   },
   "outputs": [
    {
     "data": {
      "text/plain": [
       "range(3, 10, 2)"
      ]
     },
     "execution_count": 39,
     "metadata": {},
     "output_type": "execute_result"
    }
   ],
   "source": [
    "range(3,10,2)"
   ]
  },
  {
   "cell_type": "markdown",
   "id": "8f9071d1",
   "metadata": {},
   "source": [
    ".index는 인덱스에 대한 정보를 준다."
   ]
  },
  {
   "cell_type": "markdown",
   "id": "e2c582fd",
   "metadata": {},
   "source": [
    "## .values"
   ]
  },
  {
   "cell_type": "code",
   "execution_count": 43,
   "id": "63ba9972",
   "metadata": {},
   "outputs": [
    {
     "data": {
      "text/plain": [
       "array(['s', 'p', 'e', 'm', 'c', 'e', 'r'], dtype=object)"
      ]
     },
     "execution_count": 43,
     "metadata": {},
     "output_type": "execute_result"
    }
   ],
   "source": [
    "number_series.values"
   ]
  },
  {
   "cell_type": "code",
   "execution_count": 57,
   "id": "22337025",
   "metadata": {
    "scrolled": true
   },
   "outputs": [
    {
     "data": {
      "text/plain": [
       "array(['s', 'p', 'e', 'm', 'c', 'e', 'r'], dtype=object)"
      ]
     },
     "execution_count": 57,
     "metadata": {},
     "output_type": "execute_result"
    }
   ],
   "source": [
    "letters_series.values"
   ]
  },
  {
   "cell_type": "markdown",
   "id": "1b9dc272",
   "metadata": {},
   "source": [
    ".values는 데이터를 배열(Array)로 반환한다."
   ]
  },
  {
   "cell_type": "markdown",
   "id": "7e69ab53",
   "metadata": {},
   "source": [
    "## .shape"
   ]
  },
  {
   "cell_type": "code",
   "execution_count": 59,
   "id": "8603da04",
   "metadata": {},
   "outputs": [
    {
     "data": {
      "text/plain": [
       "(6,)"
      ]
     },
     "execution_count": 59,
     "metadata": {},
     "output_type": "execute_result"
    }
   ],
   "source": [
    "number_series.shape"
   ]
  },
  {
   "cell_type": "code",
   "execution_count": 65,
   "id": "92270653-c737-4a66-b24c-8e1ddc1501c7",
   "metadata": {
    "scrolled": true
   },
   "outputs": [
    {
     "data": {
      "text/plain": [
       "(7,)"
      ]
     },
     "execution_count": 65,
     "metadata": {},
     "output_type": "execute_result"
    }
   ],
   "source": [
    "letters_series.shape"
   ]
  },
  {
   "cell_type": "markdown",
   "id": "99d82e69",
   "metadata": {},
   "source": [
    ".shape는 데이터의 구조를 알 수 있으며, Series는 1차원 구조다."
   ]
  },
  {
   "cell_type": "markdown",
   "id": "0dac7517",
   "metadata": {},
   "source": [
    "## .size"
   ]
  },
  {
   "cell_type": "code",
   "execution_count": 67,
   "id": "54e9d7c7",
   "metadata": {},
   "outputs": [
    {
     "data": {
      "text/plain": [
       "6"
      ]
     },
     "execution_count": 67,
     "metadata": {},
     "output_type": "execute_result"
    }
   ],
   "source": [
    "number_series.size"
   ]
  },
  {
   "cell_type": "code",
   "execution_count": 69,
   "id": "7272b573",
   "metadata": {},
   "outputs": [
    {
     "data": {
      "text/plain": [
       "7"
      ]
     },
     "execution_count": 69,
     "metadata": {},
     "output_type": "execute_result"
    }
   ],
   "source": [
    "letters_series.size"
   ]
  },
  {
   "cell_type": "markdown",
   "id": "8e31f4db",
   "metadata": {},
   "source": [
    ".size는 데이터의 크기를 알 수 있다."
   ]
  },
  {
   "cell_type": "markdown",
   "id": "c4150238",
   "metadata": {},
   "source": [
    "## .hasnans"
   ]
  },
  {
   "cell_type": "code",
   "execution_count": 71,
   "id": "d60fc005",
   "metadata": {},
   "outputs": [
    {
     "data": {
      "text/plain": [
       "False"
      ]
     },
     "execution_count": 71,
     "metadata": {},
     "output_type": "execute_result"
    }
   ],
   "source": [
    "number_series.hasnans"
   ]
  },
  {
   "cell_type": "code",
   "execution_count": 73,
   "id": "49499068",
   "metadata": {},
   "outputs": [
    {
     "data": {
      "text/plain": [
       "False"
      ]
     },
     "execution_count": 73,
     "metadata": {},
     "output_type": "execute_result"
    }
   ],
   "source": [
    "letters_series.hasnans"
   ]
  },
  {
   "cell_type": "code",
   "execution_count": 75,
   "id": "61214340",
   "metadata": {},
   "outputs": [],
   "source": [
    "user = {\n",
    "    'name': 'Spencer',\n",
    "    'job': None\n",
    "}"
   ]
  },
  {
   "cell_type": "code",
   "execution_count": 77,
   "id": "7c88024d",
   "metadata": {},
   "outputs": [
    {
     "data": {
      "text/plain": [
       "name    Spencer\n",
       "job        None\n",
       "dtype: object"
      ]
     },
     "execution_count": 77,
     "metadata": {},
     "output_type": "execute_result"
    }
   ],
   "source": [
    "user_series = pd.Series(user)\n",
    "user_series"
   ]
  },
  {
   "cell_type": "code",
   "execution_count": 81,
   "id": "1748e151",
   "metadata": {},
   "outputs": [
    {
     "data": {
      "text/plain": [
       "True"
      ]
     },
     "execution_count": 81,
     "metadata": {},
     "output_type": "execute_result"
    }
   ],
   "source": [
    "user_series.hasnans"
   ]
  },
  {
   "cell_type": "markdown",
   "id": "28d7053a",
   "metadata": {},
   "source": [
    ".hasnan은 None이나 NaN같은 결측치(Missing Data)가 있는지 확인한다."
   ]
  }
 ],
 "metadata": {
  "kernelspec": {
   "display_name": "Python [conda env:py3_11]",
   "language": "python",
   "name": "conda-env-py3_11-py"
  },
  "language_info": {
   "codemirror_mode": {
    "name": "ipython",
    "version": 3
   },
   "file_extension": ".py",
   "mimetype": "text/x-python",
   "name": "python",
   "nbconvert_exporter": "python",
   "pygments_lexer": "ipython3",
   "version": "3.12.0"
  }
 },
 "nbformat": 4,
 "nbformat_minor": 5
}
