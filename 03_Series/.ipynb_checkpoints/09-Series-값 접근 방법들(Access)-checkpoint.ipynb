{
 "cells": [
  {
   "cell_type": "markdown",
   "id": "236541b9",
   "metadata": {},
   "source": [
    "# 값 접근 방법들\n"
   ]
  },
  {
   "cell_type": "code",
   "execution_count": 1,
   "id": "7cb80d20",
   "metadata": {},
   "outputs": [],
   "source": [
    "import pandas as pd"
   ]
  },
  {
   "cell_type": "code",
   "execution_count": 3,
   "id": "46d74f88",
   "metadata": {
    "scrolled": true
   },
   "outputs": [
    {
     "data": {
      "text/html": [
       "<div>\n",
       "<style scoped>\n",
       "    .dataframe tbody tr th:only-of-type {\n",
       "        vertical-align: middle;\n",
       "    }\n",
       "\n",
       "    .dataframe tbody tr th {\n",
       "        vertical-align: top;\n",
       "    }\n",
       "\n",
       "    .dataframe thead th {\n",
       "        text-align: right;\n",
       "    }\n",
       "</style>\n",
       "<table border=\"1\" class=\"dataframe\">\n",
       "  <thead>\n",
       "    <tr style=\"text-align: right;\">\n",
       "      <th></th>\n",
       "      <th>Name</th>\n",
       "      <th>NetWorth</th>\n",
       "      <th>Age</th>\n",
       "      <th>Country/Territory</th>\n",
       "      <th>Source</th>\n",
       "      <th>Industry</th>\n",
       "    </tr>\n",
       "  </thead>\n",
       "  <tbody>\n",
       "    <tr>\n",
       "      <th>0</th>\n",
       "      <td>Elon Musk</td>\n",
       "      <td>$219,000,000,000</td>\n",
       "      <td>50</td>\n",
       "      <td>United States</td>\n",
       "      <td>Tesla, SpaceX</td>\n",
       "      <td>Automotive</td>\n",
       "    </tr>\n",
       "    <tr>\n",
       "      <th>1</th>\n",
       "      <td>Jeff Bezos</td>\n",
       "      <td>$171,000,000,000</td>\n",
       "      <td>58</td>\n",
       "      <td>United States</td>\n",
       "      <td>Amazon</td>\n",
       "      <td>Technology</td>\n",
       "    </tr>\n",
       "    <tr>\n",
       "      <th>2</th>\n",
       "      <td>Bernard Arnault &amp; family</td>\n",
       "      <td>$158,000,000,000</td>\n",
       "      <td>73</td>\n",
       "      <td>France</td>\n",
       "      <td>LVMH</td>\n",
       "      <td>Fashion &amp; Retail</td>\n",
       "    </tr>\n",
       "    <tr>\n",
       "      <th>3</th>\n",
       "      <td>Bill Gates</td>\n",
       "      <td>$129,000,000,000</td>\n",
       "      <td>66</td>\n",
       "      <td>United States</td>\n",
       "      <td>Microsoft</td>\n",
       "      <td>Technology</td>\n",
       "    </tr>\n",
       "    <tr>\n",
       "      <th>4</th>\n",
       "      <td>Warren Buffett</td>\n",
       "      <td>$118,000,000,000</td>\n",
       "      <td>91</td>\n",
       "      <td>United States</td>\n",
       "      <td>Berkshire Hathaway</td>\n",
       "      <td>Finance &amp; Investments</td>\n",
       "    </tr>\n",
       "    <tr>\n",
       "      <th>...</th>\n",
       "      <td>...</td>\n",
       "      <td>...</td>\n",
       "      <td>...</td>\n",
       "      <td>...</td>\n",
       "      <td>...</td>\n",
       "      <td>...</td>\n",
       "    </tr>\n",
       "    <tr>\n",
       "      <th>96</th>\n",
       "      <td>Vladimir Potanin</td>\n",
       "      <td>$17,300,000,000</td>\n",
       "      <td>61</td>\n",
       "      <td>Russia</td>\n",
       "      <td>metals</td>\n",
       "      <td>Metals &amp; Mining</td>\n",
       "    </tr>\n",
       "    <tr>\n",
       "      <th>97</th>\n",
       "      <td>Harold Hamm &amp; family</td>\n",
       "      <td>$17,200,000,000</td>\n",
       "      <td>76</td>\n",
       "      <td>United States</td>\n",
       "      <td>oil &amp; gas</td>\n",
       "      <td>Energy</td>\n",
       "    </tr>\n",
       "    <tr>\n",
       "      <th>98</th>\n",
       "      <td>Sun Piaoyang</td>\n",
       "      <td>$17,100,000,000</td>\n",
       "      <td>63</td>\n",
       "      <td>China</td>\n",
       "      <td>pharmaceuticals</td>\n",
       "      <td>Healthcare</td>\n",
       "    </tr>\n",
       "    <tr>\n",
       "      <th>99</th>\n",
       "      <td>Luo Liguo &amp; family</td>\n",
       "      <td>$17,000,000,000</td>\n",
       "      <td>66</td>\n",
       "      <td>China</td>\n",
       "      <td>chemicals</td>\n",
       "      <td>Manufacturing</td>\n",
       "    </tr>\n",
       "    <tr>\n",
       "      <th>100</th>\n",
       "      <td>Peter Woo</td>\n",
       "      <td>$17,000,000,000</td>\n",
       "      <td>75</td>\n",
       "      <td>Hong Kong</td>\n",
       "      <td>real estate</td>\n",
       "      <td>Real Estate</td>\n",
       "    </tr>\n",
       "  </tbody>\n",
       "</table>\n",
       "<p>101 rows × 6 columns</p>\n",
       "</div>"
      ],
      "text/plain": [
       "                         Name          NetWorth  Age Country/Territory  \\\n",
       "0                   Elon Musk  $219,000,000,000   50     United States   \n",
       "1                  Jeff Bezos  $171,000,000,000   58     United States   \n",
       "2    Bernard Arnault & family  $158,000,000,000   73            France   \n",
       "3                  Bill Gates  $129,000,000,000   66     United States   \n",
       "4              Warren Buffett  $118,000,000,000   91     United States   \n",
       "..                        ...               ...  ...               ...   \n",
       "96           Vladimir Potanin   $17,300,000,000   61            Russia   \n",
       "97       Harold Hamm & family   $17,200,000,000   76     United States   \n",
       "98               Sun Piaoyang   $17,100,000,000   63             China   \n",
       "99         Luo Liguo & family   $17,000,000,000   66             China   \n",
       "100                 Peter Woo   $17,000,000,000   75         Hong Kong   \n",
       "\n",
       "                 Source               Industry  \n",
       "0         Tesla, SpaceX             Automotive  \n",
       "1                Amazon             Technology  \n",
       "2                  LVMH       Fashion & Retail  \n",
       "3             Microsoft             Technology  \n",
       "4    Berkshire Hathaway  Finance & Investments  \n",
       "..                  ...                    ...  \n",
       "96               metals        Metals & Mining  \n",
       "97            oil & gas                 Energy  \n",
       "98      pharmaceuticals             Healthcare  \n",
       "99            chemicals          Manufacturing  \n",
       "100         real estate            Real Estate  \n",
       "\n",
       "[101 rows x 6 columns]"
      ]
     },
     "execution_count": 3,
     "metadata": {},
     "output_type": "execute_result"
    }
   ],
   "source": [
    "rich_set = pd.read_csv('TopRichestInWorld.csv')\n",
    "rich_set"
   ]
  },
  {
   "cell_type": "code",
   "execution_count": 9,
   "id": "410433d7",
   "metadata": {},
   "outputs": [
    {
     "data": {
      "text/plain": [
       "0                     Elon Musk\n",
       "1                    Jeff Bezos\n",
       "2      Bernard Arnault & family\n",
       "3                    Bill Gates\n",
       "4                Warren Buffett\n",
       "                 ...           \n",
       "96             Vladimir Potanin\n",
       "97         Harold Hamm & family\n",
       "98                 Sun Piaoyang\n",
       "99           Luo Liguo & family\n",
       "100                   Peter Woo\n",
       "Name: Name, Length: 101, dtype: object"
      ]
     },
     "execution_count": 9,
     "metadata": {},
     "output_type": "execute_result"
    }
   ],
   "source": [
    "# 알만한 이름이 나올까?\n",
    "rich_name = pd.read_csv('TopRichestInWorld.csv', usecols=['Name']).squeeze()\n",
    "rich_name"
   ]
  },
  {
   "cell_type": "markdown",
   "id": "4f4ccab2",
   "metadata": {},
   "source": [
    "## ????, ???? - 10개 조회하기"
   ]
  },
  {
   "cell_type": "code",
   "execution_count": 17,
   "id": "655ee957-f00f-4582-99b4-5f4b9a36c152",
   "metadata": {},
   "outputs": [
    {
     "data": {
      "text/plain": [
       "0                   Elon Musk\n",
       "1                  Jeff Bezos\n",
       "2    Bernard Arnault & family\n",
       "3                  Bill Gates\n",
       "4              Warren Buffett\n",
       "5                  Larry Page\n",
       "6                 Sergey Brin\n",
       "7               Larry Ellison\n",
       "8               Steve Ballmer\n",
       "9               Mukesh Ambani\n",
       "Name: Name, dtype: object"
      ]
     },
     "execution_count": 17,
     "metadata": {},
     "output_type": "execute_result"
    }
   ],
   "source": [
    "# 앞단 10개 조회\n",
    "rich_name.head(10)"
   ]
  },
  {
   "cell_type": "code",
   "execution_count": 15,
   "id": "bccdc421",
   "metadata": {},
   "outputs": [
    {
     "data": {
      "text/plain": [
       "91     Savitri Jindal & family\n",
       "92                 Wang Wenyin\n",
       "93                   Li Xiting\n",
       "94              Stefan Persson\n",
       "95                 Steve Cohen\n",
       "96            Vladimir Potanin\n",
       "97        Harold Hamm & family\n",
       "98                Sun Piaoyang\n",
       "99          Luo Liguo & family\n",
       "100                  Peter Woo\n",
       "Name: Name, dtype: object"
      ]
     },
     "execution_count": 15,
     "metadata": {},
     "output_type": "execute_result"
    }
   ],
   "source": [
    "# 뒷단 10개 조회\n",
    "rich_name.tail(10)"
   ]
  },
  {
   "cell_type": "markdown",
   "id": "0ec3677a",
   "metadata": {},
   "source": [
    "## 특정 index 조회"
   ]
  },
  {
   "cell_type": "code",
   "execution_count": 19,
   "id": "1747b921",
   "metadata": {},
   "outputs": [
    {
     "data": {
      "text/plain": [
       "'Elon Musk'"
      ]
     },
     "execution_count": 19,
     "metadata": {},
     "output_type": "execute_result"
    }
   ],
   "source": [
    "rich_name[0]"
   ]
  },
  {
   "cell_type": "code",
   "execution_count": 21,
   "id": "5a576a5e",
   "metadata": {},
   "outputs": [
    {
     "data": {
      "text/plain": [
       "'Peter Woo'"
      ]
     },
     "execution_count": 21,
     "metadata": {},
     "output_type": "execute_result"
    }
   ],
   "source": [
    "rich_name[100]"
   ]
  },
  {
   "cell_type": "code",
   "execution_count": 23,
   "id": "0d397ba9",
   "metadata": {
    "scrolled": true
   },
   "outputs": [
    {
     "ename": "KeyError",
     "evalue": "101",
     "output_type": "error",
     "traceback": [
      "\u001b[1;31m---------------------------------------------------------------------------\u001b[0m",
      "\u001b[1;31mValueError\u001b[0m                                Traceback (most recent call last)",
      "File \u001b[1;32m~\\anaconda3\\Lib\\site-packages\\pandas\\core\\indexes\\range.py:413\u001b[0m, in \u001b[0;36mRangeIndex.get_loc\u001b[1;34m(self, key)\u001b[0m\n\u001b[0;32m    412\u001b[0m \u001b[38;5;28;01mtry\u001b[39;00m:\n\u001b[1;32m--> 413\u001b[0m     \u001b[38;5;28;01mreturn\u001b[39;00m \u001b[38;5;28mself\u001b[39m\u001b[38;5;241m.\u001b[39m_range\u001b[38;5;241m.\u001b[39mindex(new_key)\n\u001b[0;32m    414\u001b[0m \u001b[38;5;28;01mexcept\u001b[39;00m \u001b[38;5;167;01mValueError\u001b[39;00m \u001b[38;5;28;01mas\u001b[39;00m err:\n",
      "\u001b[1;31mValueError\u001b[0m: 101 is not in range",
      "\nThe above exception was the direct cause of the following exception:\n",
      "\u001b[1;31mKeyError\u001b[0m                                  Traceback (most recent call last)",
      "Cell \u001b[1;32mIn[23], line 2\u001b[0m\n\u001b[0;32m      1\u001b[0m \u001b[38;5;66;03m# 범위를 넘기면 에러\u001b[39;00m\n\u001b[1;32m----> 2\u001b[0m rich_name[\u001b[38;5;241m101\u001b[39m]\n",
      "File \u001b[1;32m~\\anaconda3\\Lib\\site-packages\\pandas\\core\\series.py:1121\u001b[0m, in \u001b[0;36mSeries.__getitem__\u001b[1;34m(self, key)\u001b[0m\n\u001b[0;32m   1118\u001b[0m     \u001b[38;5;28;01mreturn\u001b[39;00m \u001b[38;5;28mself\u001b[39m\u001b[38;5;241m.\u001b[39m_values[key]\n\u001b[0;32m   1120\u001b[0m \u001b[38;5;28;01melif\u001b[39;00m key_is_scalar:\n\u001b[1;32m-> 1121\u001b[0m     \u001b[38;5;28;01mreturn\u001b[39;00m \u001b[38;5;28mself\u001b[39m\u001b[38;5;241m.\u001b[39m_get_value(key)\n\u001b[0;32m   1123\u001b[0m \u001b[38;5;66;03m# Convert generator to list before going through hashable part\u001b[39;00m\n\u001b[0;32m   1124\u001b[0m \u001b[38;5;66;03m# (We will iterate through the generator there to check for slices)\u001b[39;00m\n\u001b[0;32m   1125\u001b[0m \u001b[38;5;28;01mif\u001b[39;00m is_iterator(key):\n",
      "File \u001b[1;32m~\\anaconda3\\Lib\\site-packages\\pandas\\core\\series.py:1237\u001b[0m, in \u001b[0;36mSeries._get_value\u001b[1;34m(self, label, takeable)\u001b[0m\n\u001b[0;32m   1234\u001b[0m     \u001b[38;5;28;01mreturn\u001b[39;00m \u001b[38;5;28mself\u001b[39m\u001b[38;5;241m.\u001b[39m_values[label]\n\u001b[0;32m   1236\u001b[0m \u001b[38;5;66;03m# Similar to Index.get_value, but we do not fall back to positional\u001b[39;00m\n\u001b[1;32m-> 1237\u001b[0m loc \u001b[38;5;241m=\u001b[39m \u001b[38;5;28mself\u001b[39m\u001b[38;5;241m.\u001b[39mindex\u001b[38;5;241m.\u001b[39mget_loc(label)\n\u001b[0;32m   1239\u001b[0m \u001b[38;5;28;01mif\u001b[39;00m is_integer(loc):\n\u001b[0;32m   1240\u001b[0m     \u001b[38;5;28;01mreturn\u001b[39;00m \u001b[38;5;28mself\u001b[39m\u001b[38;5;241m.\u001b[39m_values[loc]\n",
      "File \u001b[1;32m~\\anaconda3\\Lib\\site-packages\\pandas\\core\\indexes\\range.py:415\u001b[0m, in \u001b[0;36mRangeIndex.get_loc\u001b[1;34m(self, key)\u001b[0m\n\u001b[0;32m    413\u001b[0m         \u001b[38;5;28;01mreturn\u001b[39;00m \u001b[38;5;28mself\u001b[39m\u001b[38;5;241m.\u001b[39m_range\u001b[38;5;241m.\u001b[39mindex(new_key)\n\u001b[0;32m    414\u001b[0m     \u001b[38;5;28;01mexcept\u001b[39;00m \u001b[38;5;167;01mValueError\u001b[39;00m \u001b[38;5;28;01mas\u001b[39;00m err:\n\u001b[1;32m--> 415\u001b[0m         \u001b[38;5;28;01mraise\u001b[39;00m \u001b[38;5;167;01mKeyError\u001b[39;00m(key) \u001b[38;5;28;01mfrom\u001b[39;00m \u001b[38;5;21;01merr\u001b[39;00m\n\u001b[0;32m    416\u001b[0m \u001b[38;5;28;01mif\u001b[39;00m \u001b[38;5;28misinstance\u001b[39m(key, Hashable):\n\u001b[0;32m    417\u001b[0m     \u001b[38;5;28;01mraise\u001b[39;00m \u001b[38;5;167;01mKeyError\u001b[39;00m(key)\n",
      "\u001b[1;31mKeyError\u001b[0m: 101"
     ]
    }
   ],
   "source": [
    "# 범위를 넘기면 에러\n",
    "rich_name[101]"
   ]
  },
  {
   "cell_type": "markdown",
   "id": "6996dae8",
   "metadata": {},
   "source": [
    "## 특정 Index들 조회"
   ]
  },
  {
   "cell_type": "code",
   "execution_count": 25,
   "id": "f767e85c",
   "metadata": {
    "scrolled": true
   },
   "outputs": [
    {
     "data": {
      "text/plain": [
       "0      Elon Musk\n",
       "5     Larry Page\n",
       "15    Jim Walton\n",
       "Name: Name, dtype: object"
      ]
     },
     "execution_count": 25,
     "metadata": {},
     "output_type": "execute_result"
    }
   ],
   "source": [
    "rich_name[[0,5,15]]"
   ]
  },
  {
   "cell_type": "markdown",
   "id": "468b435b",
   "metadata": {},
   "source": [
    "## 인덱스 슬라이싱(Slicing)을 이용한 조회"
   ]
  },
  {
   "cell_type": "code",
   "execution_count": 27,
   "id": "133f72a5",
   "metadata": {
    "scrolled": true
   },
   "outputs": [
    {
     "data": {
      "text/plain": [
       "0                   Elon Musk\n",
       "1                  Jeff Bezos\n",
       "2    Bernard Arnault & family\n",
       "3                  Bill Gates\n",
       "4              Warren Buffett\n",
       "Name: Name, dtype: object"
      ]
     },
     "execution_count": 27,
     "metadata": {},
     "output_type": "execute_result"
    }
   ],
   "source": [
    "# head와 동일한 기능\n",
    "rich_name[0:5]"
   ]
  },
  {
   "cell_type": "code",
   "execution_count": 29,
   "id": "4d233c83",
   "metadata": {},
   "outputs": [
    {
     "data": {
      "text/plain": [
       "0                     Elon Musk\n",
       "1                    Jeff Bezos\n",
       "2      Bernard Arnault & family\n",
       "3                    Bill Gates\n",
       "4                Warren Buffett\n",
       "                 ...           \n",
       "96             Vladimir Potanin\n",
       "97         Harold Hamm & family\n",
       "98                 Sun Piaoyang\n",
       "99           Luo Liguo & family\n",
       "100                   Peter Woo\n",
       "Name: Name, Length: 101, dtype: object"
      ]
     },
     "execution_count": 29,
     "metadata": {},
     "output_type": "execute_result"
    }
   ],
   "source": [
    "# 슬라이스 숫자 생략도 파이썬처럼 가능\n",
    "rich_name[:]"
   ]
  },
  {
   "cell_type": "code",
   "execution_count": 31,
   "id": "2829d9dc",
   "metadata": {},
   "outputs": [
    {
     "data": {
      "text/plain": [
       "0                   Elon Musk\n",
       "5                  Larry Page\n",
       "10      Gautam Adani & family\n",
       "15                 Jim Walton\n",
       "20               Charles Koch\n",
       "25     David Thomson & family\n",
       "30    Rodolphe Saadé & family\n",
       "35           Giovanni Ferrero\n",
       "40            Jacqueline Mars\n",
       "45              Gina Rinehart\n",
       "Name: Name, dtype: object"
      ]
     },
     "execution_count": 31,
     "metadata": {},
     "output_type": "execute_result"
    }
   ],
   "source": [
    "# 0~50명단까지, 5배수에 해당하는 사람 이름을 조회하려면\n",
    "rich_name[0:50:5]"
   ]
  },
  {
   "cell_type": "markdown",
   "id": "d7544e6d",
   "metadata": {},
   "source": [
    "## Series 인덱스 조회"
   ]
  },
  {
   "cell_type": "code",
   "execution_count": 33,
   "id": "5faa46bf",
   "metadata": {},
   "outputs": [
    {
     "data": {
      "text/plain": [
       "RangeIndex(start=0, stop=101, step=1)"
      ]
     },
     "execution_count": 33,
     "metadata": {},
     "output_type": "execute_result"
    }
   ],
   "source": [
    "rich_name.index"
   ]
  },
  {
   "cell_type": "code",
   "execution_count": 37,
   "id": "889cc453",
   "metadata": {},
   "outputs": [
    {
     "data": {
      "text/plain": [
       "RangeIndex(start=0, stop=3, step=1)"
      ]
     },
     "execution_count": 37,
     "metadata": {},
     "output_type": "execute_result"
    }
   ],
   "source": [
    "# 다른 예시 1\n",
    "data = ['banana', 'apple', 'coconut']\n",
    "data_set = pd.Series(data)\n",
    "data_set.index"
   ]
  },
  {
   "cell_type": "code",
   "execution_count": 39,
   "id": "a29e0010",
   "metadata": {},
   "outputs": [
    {
     "data": {
      "text/plain": [
       "Index(['name', 'age', 'job'], dtype='object')"
      ]
     },
     "execution_count": 39,
     "metadata": {},
     "output_type": "execute_result"
    }
   ],
   "source": [
    "# 다른 예시 2\n",
    "user = {\"name\": \"Spencer\", \"age\": 20, \"job\": None}\n",
    "user_set = pd.Series(user)\n",
    "user_set.index"
   ]
  },
  {
   "cell_type": "markdown",
   "id": "c0c6f0c6",
   "metadata": {},
   "source": [
    "**RangeIndex**\n",
    "- RangeIndex는 순차적인 정수로 구성된 인덱스 객체.\n",
    "- 데이터프레임(DataFrame)이나 시리즈(Series)를 생성할 때, 명시적으로 인덱스를 지정하지 않은 경우에 기본적으로 생성되는 인덱스.\n",
    "- RangeIndex는 0부터 시작하는 정수로 구성되며\n",
    "- 일반적으로 데이터의 길이 또는 행의 개수에 따라 자동으로 생성\n",
    "- RangeIndex는 **변경할 수 없는(immutable) 객체**로, 크기가 고정.\n",
    "- RangeIndex는 메모리 사용을 최적화하여 데이터의 검색과 접근 속도를 향상시킵니다.\n",
    "\n",
    "**Index**\n",
    "- Index는 일련의 값으로 구성된 인덱스 객체.\n",
    "- 문자열, 정수, 날짜 등 다양한 데이터 타입을 가질 수 있다.\n",
    "- Index는 RangeIndex와 달리 명시적으로 지정되거나 다른 데이터의 인덱스로부터 생성될 수 있다.\n",
    "- Index는 **변경 가능한(mutable) 객체** \n",
    "- 따라서, 인덱스의 값이나 순서를 변경하거나 인덱스를 추가/삭제할 수 있다.\n",
    "- Index는 데이터의 레이블링, 인덱싱, 슬라이싱 등 다양한 데이터 조작 작업에 활용된다.\n",
    "\n",
    "**RangeIndex vs Index 요약**\n",
    "- RangeIndex\n",
    "    - 순차적인 정수로 구성되는 고정 크기의 인덱스 객체,\n",
    "- Index\n",
    "    - 일련의 값으로 구성되며 변경 가능한 특성을 가진 인덱스 객체\n",
    "- 두 객체 모두 데이터프레임이나 시리즈의 인덱스로 사용되고, 데이터 조작 및 접근을 위해 다양한 기능을 제공."
   ]
  },
  {
   "cell_type": "markdown",
   "id": "b35a6441",
   "metadata": {},
   "source": [
    "## Index 특이사항1 - 순환될까?"
   ]
  },
  {
   "cell_type": "code",
   "execution_count": 41,
   "id": "ab0e31e5",
   "metadata": {},
   "outputs": [
    {
     "data": {
      "text/plain": [
       "12"
      ]
     },
     "execution_count": 41,
     "metadata": {},
     "output_type": "execute_result"
    }
   ],
   "source": [
    "# 파이썬 순환 조회\n",
    "numbers = [3, 6, 9, 12]\n",
    "numbers[-1]"
   ]
  },
  {
   "cell_type": "code",
   "execution_count": 43,
   "id": "0e9b1195",
   "metadata": {},
   "outputs": [
    {
     "data": {
      "text/plain": [
       "[12, 9, 6, 3]"
      ]
     },
     "execution_count": 43,
     "metadata": {},
     "output_type": "execute_result"
    }
   ],
   "source": [
    "# 파이썬 순환 생략&슬라이싱\n",
    "numbers[::-1]"
   ]
  },
  {
   "cell_type": "code",
   "execution_count": 45,
   "id": "497067cf",
   "metadata": {
    "scrolled": true
   },
   "outputs": [
    {
     "ename": "KeyError",
     "evalue": "-1",
     "output_type": "error",
     "traceback": [
      "\u001b[1;31m---------------------------------------------------------------------------\u001b[0m",
      "\u001b[1;31mValueError\u001b[0m                                Traceback (most recent call last)",
      "File \u001b[1;32m~\\anaconda3\\Lib\\site-packages\\pandas\\core\\indexes\\range.py:413\u001b[0m, in \u001b[0;36mRangeIndex.get_loc\u001b[1;34m(self, key)\u001b[0m\n\u001b[0;32m    412\u001b[0m \u001b[38;5;28;01mtry\u001b[39;00m:\n\u001b[1;32m--> 413\u001b[0m     \u001b[38;5;28;01mreturn\u001b[39;00m \u001b[38;5;28mself\u001b[39m\u001b[38;5;241m.\u001b[39m_range\u001b[38;5;241m.\u001b[39mindex(new_key)\n\u001b[0;32m    414\u001b[0m \u001b[38;5;28;01mexcept\u001b[39;00m \u001b[38;5;167;01mValueError\u001b[39;00m \u001b[38;5;28;01mas\u001b[39;00m err:\n",
      "\u001b[1;31mValueError\u001b[0m: -1 is not in range",
      "\nThe above exception was the direct cause of the following exception:\n",
      "\u001b[1;31mKeyError\u001b[0m                                  Traceback (most recent call last)",
      "Cell \u001b[1;32mIn[45], line 2\u001b[0m\n\u001b[0;32m      1\u001b[0m \u001b[38;5;66;03m# 파이썬 리스트처럼 순환이 될까?\u001b[39;00m\n\u001b[1;32m----> 2\u001b[0m rich_name[\u001b[38;5;241m-\u001b[39m\u001b[38;5;241m1\u001b[39m]\n",
      "File \u001b[1;32m~\\anaconda3\\Lib\\site-packages\\pandas\\core\\series.py:1121\u001b[0m, in \u001b[0;36mSeries.__getitem__\u001b[1;34m(self, key)\u001b[0m\n\u001b[0;32m   1118\u001b[0m     \u001b[38;5;28;01mreturn\u001b[39;00m \u001b[38;5;28mself\u001b[39m\u001b[38;5;241m.\u001b[39m_values[key]\n\u001b[0;32m   1120\u001b[0m \u001b[38;5;28;01melif\u001b[39;00m key_is_scalar:\n\u001b[1;32m-> 1121\u001b[0m     \u001b[38;5;28;01mreturn\u001b[39;00m \u001b[38;5;28mself\u001b[39m\u001b[38;5;241m.\u001b[39m_get_value(key)\n\u001b[0;32m   1123\u001b[0m \u001b[38;5;66;03m# Convert generator to list before going through hashable part\u001b[39;00m\n\u001b[0;32m   1124\u001b[0m \u001b[38;5;66;03m# (We will iterate through the generator there to check for slices)\u001b[39;00m\n\u001b[0;32m   1125\u001b[0m \u001b[38;5;28;01mif\u001b[39;00m is_iterator(key):\n",
      "File \u001b[1;32m~\\anaconda3\\Lib\\site-packages\\pandas\\core\\series.py:1237\u001b[0m, in \u001b[0;36mSeries._get_value\u001b[1;34m(self, label, takeable)\u001b[0m\n\u001b[0;32m   1234\u001b[0m     \u001b[38;5;28;01mreturn\u001b[39;00m \u001b[38;5;28mself\u001b[39m\u001b[38;5;241m.\u001b[39m_values[label]\n\u001b[0;32m   1236\u001b[0m \u001b[38;5;66;03m# Similar to Index.get_value, but we do not fall back to positional\u001b[39;00m\n\u001b[1;32m-> 1237\u001b[0m loc \u001b[38;5;241m=\u001b[39m \u001b[38;5;28mself\u001b[39m\u001b[38;5;241m.\u001b[39mindex\u001b[38;5;241m.\u001b[39mget_loc(label)\n\u001b[0;32m   1239\u001b[0m \u001b[38;5;28;01mif\u001b[39;00m is_integer(loc):\n\u001b[0;32m   1240\u001b[0m     \u001b[38;5;28;01mreturn\u001b[39;00m \u001b[38;5;28mself\u001b[39m\u001b[38;5;241m.\u001b[39m_values[loc]\n",
      "File \u001b[1;32m~\\anaconda3\\Lib\\site-packages\\pandas\\core\\indexes\\range.py:415\u001b[0m, in \u001b[0;36mRangeIndex.get_loc\u001b[1;34m(self, key)\u001b[0m\n\u001b[0;32m    413\u001b[0m         \u001b[38;5;28;01mreturn\u001b[39;00m \u001b[38;5;28mself\u001b[39m\u001b[38;5;241m.\u001b[39m_range\u001b[38;5;241m.\u001b[39mindex(new_key)\n\u001b[0;32m    414\u001b[0m     \u001b[38;5;28;01mexcept\u001b[39;00m \u001b[38;5;167;01mValueError\u001b[39;00m \u001b[38;5;28;01mas\u001b[39;00m err:\n\u001b[1;32m--> 415\u001b[0m         \u001b[38;5;28;01mraise\u001b[39;00m \u001b[38;5;167;01mKeyError\u001b[39;00m(key) \u001b[38;5;28;01mfrom\u001b[39;00m \u001b[38;5;21;01merr\u001b[39;00m\n\u001b[0;32m    416\u001b[0m \u001b[38;5;28;01mif\u001b[39;00m \u001b[38;5;28misinstance\u001b[39m(key, Hashable):\n\u001b[0;32m    417\u001b[0m     \u001b[38;5;28;01mraise\u001b[39;00m \u001b[38;5;167;01mKeyError\u001b[39;00m(key)\n",
      "\u001b[1;31mKeyError\u001b[0m: -1"
     ]
    }
   ],
   "source": [
    "# 파이썬 리스트처럼 순환이 될까?\n",
    "rich_name[-1]"
   ]
  },
  {
   "cell_type": "markdown",
   "id": "c7c32d2f",
   "metadata": {},
   "source": [
    "'지원을 안한다'가 아니라 '방식이 잘못되었다'는 걸 Key Error를 보고 깨달아야한다.\n",
    "파이썬 리스트를 생각했다면 KeyError가 아닌 IndexError가 발생했을 것."
   ]
  },
  {
   "cell_type": "code",
   "execution_count": 49,
   "id": "9f204bc3",
   "metadata": {
    "scrolled": true
   },
   "outputs": [
    {
     "data": {
      "text/plain": [
       "0     banana\n",
       "1      apple\n",
       "2    coconut\n",
       "dtype: object"
      ]
     },
     "execution_count": 49,
     "metadata": {},
     "output_type": "execute_result"
    }
   ],
   "source": [
    "# 상황 1\n",
    "data = ['banana', 'apple', 'coconut']\n",
    "data_set = pd.Series(data)\n",
    "data_set"
   ]
  },
  {
   "cell_type": "code",
   "execution_count": 51,
   "id": "7dc040e0",
   "metadata": {},
   "outputs": [
    {
     "data": {
      "text/plain": [
       "RangeIndex(start=0, stop=3, step=1)"
      ]
     },
     "execution_count": 51,
     "metadata": {},
     "output_type": "execute_result"
    }
   ],
   "source": [
    "data_set.index"
   ]
  },
  {
   "cell_type": "code",
   "execution_count": 53,
   "id": "526ddf4c",
   "metadata": {
    "scrolled": true
   },
   "outputs": [
    {
     "data": {
      "text/plain": [
       "0     banana\n",
       "2    coconut\n",
       "dtype: object"
      ]
     },
     "execution_count": 53,
     "metadata": {},
     "output_type": "execute_result"
    }
   ],
   "source": [
    "# 미리보기 : 삭제\n",
    "del data_set[1]\n",
    "data_set"
   ]
  },
  {
   "cell_type": "code",
   "execution_count": 55,
   "id": "24a5537c",
   "metadata": {},
   "outputs": [
    {
     "data": {
      "text/plain": [
       "RangeIndex(start=0, stop=3, step=2)"
      ]
     },
     "execution_count": 55,
     "metadata": {},
     "output_type": "execute_result"
    }
   ],
   "source": [
    "data_set.index"
   ]
  },
  {
   "cell_type": "code",
   "execution_count": 57,
   "id": "65347fa7",
   "metadata": {
    "scrolled": true
   },
   "outputs": [
    {
     "ename": "KeyError",
     "evalue": "1",
     "output_type": "error",
     "traceback": [
      "\u001b[1;31m---------------------------------------------------------------------------\u001b[0m",
      "\u001b[1;31mValueError\u001b[0m                                Traceback (most recent call last)",
      "File \u001b[1;32m~\\anaconda3\\Lib\\site-packages\\pandas\\core\\indexes\\range.py:413\u001b[0m, in \u001b[0;36mRangeIndex.get_loc\u001b[1;34m(self, key)\u001b[0m\n\u001b[0;32m    412\u001b[0m \u001b[38;5;28;01mtry\u001b[39;00m:\n\u001b[1;32m--> 413\u001b[0m     \u001b[38;5;28;01mreturn\u001b[39;00m \u001b[38;5;28mself\u001b[39m\u001b[38;5;241m.\u001b[39m_range\u001b[38;5;241m.\u001b[39mindex(new_key)\n\u001b[0;32m    414\u001b[0m \u001b[38;5;28;01mexcept\u001b[39;00m \u001b[38;5;167;01mValueError\u001b[39;00m \u001b[38;5;28;01mas\u001b[39;00m err:\n",
      "\u001b[1;31mValueError\u001b[0m: 1 is not in range",
      "\nThe above exception was the direct cause of the following exception:\n",
      "\u001b[1;31mKeyError\u001b[0m                                  Traceback (most recent call last)",
      "Cell \u001b[1;32mIn[57], line 3\u001b[0m\n\u001b[0;32m      1\u001b[0m \u001b[38;5;66;03m# 인덱스가 아니라 인덱스 열(인덱스 객체로 이루어진)이다.\u001b[39;00m\n\u001b[0;32m      2\u001b[0m \u001b[38;5;66;03m# 때문에 1로 인덱스 접근하면 에러\u001b[39;00m\n\u001b[1;32m----> 3\u001b[0m data_set[\u001b[38;5;241m1\u001b[39m]\n",
      "File \u001b[1;32m~\\anaconda3\\Lib\\site-packages\\pandas\\core\\series.py:1121\u001b[0m, in \u001b[0;36mSeries.__getitem__\u001b[1;34m(self, key)\u001b[0m\n\u001b[0;32m   1118\u001b[0m     \u001b[38;5;28;01mreturn\u001b[39;00m \u001b[38;5;28mself\u001b[39m\u001b[38;5;241m.\u001b[39m_values[key]\n\u001b[0;32m   1120\u001b[0m \u001b[38;5;28;01melif\u001b[39;00m key_is_scalar:\n\u001b[1;32m-> 1121\u001b[0m     \u001b[38;5;28;01mreturn\u001b[39;00m \u001b[38;5;28mself\u001b[39m\u001b[38;5;241m.\u001b[39m_get_value(key)\n\u001b[0;32m   1123\u001b[0m \u001b[38;5;66;03m# Convert generator to list before going through hashable part\u001b[39;00m\n\u001b[0;32m   1124\u001b[0m \u001b[38;5;66;03m# (We will iterate through the generator there to check for slices)\u001b[39;00m\n\u001b[0;32m   1125\u001b[0m \u001b[38;5;28;01mif\u001b[39;00m is_iterator(key):\n",
      "File \u001b[1;32m~\\anaconda3\\Lib\\site-packages\\pandas\\core\\series.py:1237\u001b[0m, in \u001b[0;36mSeries._get_value\u001b[1;34m(self, label, takeable)\u001b[0m\n\u001b[0;32m   1234\u001b[0m     \u001b[38;5;28;01mreturn\u001b[39;00m \u001b[38;5;28mself\u001b[39m\u001b[38;5;241m.\u001b[39m_values[label]\n\u001b[0;32m   1236\u001b[0m \u001b[38;5;66;03m# Similar to Index.get_value, but we do not fall back to positional\u001b[39;00m\n\u001b[1;32m-> 1237\u001b[0m loc \u001b[38;5;241m=\u001b[39m \u001b[38;5;28mself\u001b[39m\u001b[38;5;241m.\u001b[39mindex\u001b[38;5;241m.\u001b[39mget_loc(label)\n\u001b[0;32m   1239\u001b[0m \u001b[38;5;28;01mif\u001b[39;00m is_integer(loc):\n\u001b[0;32m   1240\u001b[0m     \u001b[38;5;28;01mreturn\u001b[39;00m \u001b[38;5;28mself\u001b[39m\u001b[38;5;241m.\u001b[39m_values[loc]\n",
      "File \u001b[1;32m~\\anaconda3\\Lib\\site-packages\\pandas\\core\\indexes\\range.py:415\u001b[0m, in \u001b[0;36mRangeIndex.get_loc\u001b[1;34m(self, key)\u001b[0m\n\u001b[0;32m    413\u001b[0m         \u001b[38;5;28;01mreturn\u001b[39;00m \u001b[38;5;28mself\u001b[39m\u001b[38;5;241m.\u001b[39m_range\u001b[38;5;241m.\u001b[39mindex(new_key)\n\u001b[0;32m    414\u001b[0m     \u001b[38;5;28;01mexcept\u001b[39;00m \u001b[38;5;167;01mValueError\u001b[39;00m \u001b[38;5;28;01mas\u001b[39;00m err:\n\u001b[1;32m--> 415\u001b[0m         \u001b[38;5;28;01mraise\u001b[39;00m \u001b[38;5;167;01mKeyError\u001b[39;00m(key) \u001b[38;5;28;01mfrom\u001b[39;00m \u001b[38;5;21;01merr\u001b[39;00m\n\u001b[0;32m    416\u001b[0m \u001b[38;5;28;01mif\u001b[39;00m \u001b[38;5;28misinstance\u001b[39m(key, Hashable):\n\u001b[0;32m    417\u001b[0m     \u001b[38;5;28;01mraise\u001b[39;00m \u001b[38;5;167;01mKeyError\u001b[39;00m(key)\n",
      "\u001b[1;31mKeyError\u001b[0m: 1"
     ]
    }
   ],
   "source": [
    "# 인덱스가 아니라 인덱스 열(인덱스 객체로 이루어진)이다.\n",
    "# 때문에 1로 인덱스 접근하면 에러\n",
    "data_set[1]"
   ]
  },
  {
   "cell_type": "markdown",
   "id": "164e1e8b",
   "metadata": {},
   "source": [
    "## Index 특이사항2 - 인덱스가 문자열일때"
   ]
  },
  {
   "cell_type": "code",
   "execution_count": 59,
   "id": "7d933cc7",
   "metadata": {},
   "outputs": [
    {
     "data": {
      "text/plain": [
       "name    Spencer\n",
       "age          20\n",
       "job        None\n",
       "dtype: object"
      ]
     },
     "execution_count": 59,
     "metadata": {},
     "output_type": "execute_result"
    }
   ],
   "source": [
    "# 상황 2\n",
    "user = {\"name\": \"Spencer\", \"age\": 20, \"job\": None}\n",
    "user_set = pd.Series(user)\n",
    "user_set"
   ]
  },
  {
   "cell_type": "code",
   "execution_count": 61,
   "id": "66404805",
   "metadata": {
    "scrolled": true
   },
   "outputs": [
    {
     "data": {
      "text/plain": [
       "Index(['name', 'age', 'job'], dtype='object')"
      ]
     },
     "execution_count": 61,
     "metadata": {},
     "output_type": "execute_result"
    }
   ],
   "source": [
    "user_set.index"
   ]
  },
  {
   "cell_type": "code",
   "execution_count": 63,
   "id": "af41db0d",
   "metadata": {},
   "outputs": [
    {
     "data": {
      "text/plain": [
       "'Spencer'"
      ]
     },
     "execution_count": 63,
     "metadata": {},
     "output_type": "execute_result"
    }
   ],
   "source": [
    "# 이건 되고\n",
    "user_set['name']"
   ]
  },
  {
   "cell_type": "code",
   "execution_count": 67,
   "id": "dd29c77b",
   "metadata": {},
   "outputs": [
    {
     "name": "stderr",
     "output_type": "stream",
     "text": [
      "C:\\Users\\ejrwl\\AppData\\Local\\Temp\\ipykernel_8832\\1390411142.py:2: FutureWarning: Series.__getitem__ treating keys as positions is deprecated. In a future version, integer keys will always be treated as labels (consistent with DataFrame behavior). To access a value by position, use `ser.iloc[pos]`\n",
      "  user_set[0]\n"
     ]
    },
    {
     "data": {
      "text/plain": [
       "'Spencer'"
      ]
     },
     "execution_count": 67,
     "metadata": {},
     "output_type": "execute_result"
    }
   ],
   "source": [
    "# 이것도 되고\n",
    "user_set[0]"
   ]
  },
  {
   "cell_type": "code",
   "execution_count": 69,
   "id": "3cfecbea",
   "metadata": {},
   "outputs": [],
   "source": [
    "# 이건 되고\n",
    "del user_set['name']"
   ]
  },
  {
   "cell_type": "code",
   "execution_count": 71,
   "id": "355cd4ea",
   "metadata": {
    "scrolled": true
   },
   "outputs": [
    {
     "ename": "KeyError",
     "evalue": "0",
     "output_type": "error",
     "traceback": [
      "\u001b[1;31m---------------------------------------------------------------------------\u001b[0m",
      "\u001b[1;31mKeyError\u001b[0m                                  Traceback (most recent call last)",
      "File \u001b[1;32m~\\anaconda3\\Lib\\site-packages\\pandas\\core\\indexes\\base.py:3805\u001b[0m, in \u001b[0;36mIndex.get_loc\u001b[1;34m(self, key)\u001b[0m\n\u001b[0;32m   3804\u001b[0m \u001b[38;5;28;01mtry\u001b[39;00m:\n\u001b[1;32m-> 3805\u001b[0m     \u001b[38;5;28;01mreturn\u001b[39;00m \u001b[38;5;28mself\u001b[39m\u001b[38;5;241m.\u001b[39m_engine\u001b[38;5;241m.\u001b[39mget_loc(casted_key)\n\u001b[0;32m   3806\u001b[0m \u001b[38;5;28;01mexcept\u001b[39;00m \u001b[38;5;167;01mKeyError\u001b[39;00m \u001b[38;5;28;01mas\u001b[39;00m err:\n",
      "File \u001b[1;32mindex.pyx:167\u001b[0m, in \u001b[0;36mpandas._libs.index.IndexEngine.get_loc\u001b[1;34m()\u001b[0m\n",
      "File \u001b[1;32mindex.pyx:196\u001b[0m, in \u001b[0;36mpandas._libs.index.IndexEngine.get_loc\u001b[1;34m()\u001b[0m\n",
      "File \u001b[1;32mpandas\\\\_libs\\\\hashtable_class_helper.pxi:7081\u001b[0m, in \u001b[0;36mpandas._libs.hashtable.PyObjectHashTable.get_item\u001b[1;34m()\u001b[0m\n",
      "File \u001b[1;32mpandas\\\\_libs\\\\hashtable_class_helper.pxi:7089\u001b[0m, in \u001b[0;36mpandas._libs.hashtable.PyObjectHashTable.get_item\u001b[1;34m()\u001b[0m\n",
      "\u001b[1;31mKeyError\u001b[0m: 0",
      "\nThe above exception was the direct cause of the following exception:\n",
      "\u001b[1;31mKeyError\u001b[0m                                  Traceback (most recent call last)",
      "Cell \u001b[1;32mIn[71], line 2\u001b[0m\n\u001b[0;32m      1\u001b[0m \u001b[38;5;66;03m# 이건 안되고?\u001b[39;00m\n\u001b[1;32m----> 2\u001b[0m \u001b[38;5;28;01mdel\u001b[39;00m user_set[\u001b[38;5;241m0\u001b[39m]\n",
      "File \u001b[1;32m~\\anaconda3\\Lib\\site-packages\\pandas\\core\\generic.py:4506\u001b[0m, in \u001b[0;36mNDFrame.__delitem__\u001b[1;34m(self, key)\u001b[0m\n\u001b[0;32m   4501\u001b[0m             deleted \u001b[38;5;241m=\u001b[39m \u001b[38;5;28;01mTrue\u001b[39;00m\n\u001b[0;32m   4502\u001b[0m \u001b[38;5;28;01mif\u001b[39;00m \u001b[38;5;129;01mnot\u001b[39;00m deleted:\n\u001b[0;32m   4503\u001b[0m     \u001b[38;5;66;03m# If the above loop ran and didn't delete anything because\u001b[39;00m\n\u001b[0;32m   4504\u001b[0m     \u001b[38;5;66;03m# there was no match, this call should raise the appropriate\u001b[39;00m\n\u001b[0;32m   4505\u001b[0m     \u001b[38;5;66;03m# exception:\u001b[39;00m\n\u001b[1;32m-> 4506\u001b[0m     loc \u001b[38;5;241m=\u001b[39m \u001b[38;5;28mself\u001b[39m\u001b[38;5;241m.\u001b[39maxes[\u001b[38;5;241m-\u001b[39m\u001b[38;5;241m1\u001b[39m]\u001b[38;5;241m.\u001b[39mget_loc(key)\n\u001b[0;32m   4507\u001b[0m     \u001b[38;5;28mself\u001b[39m\u001b[38;5;241m.\u001b[39m_mgr \u001b[38;5;241m=\u001b[39m \u001b[38;5;28mself\u001b[39m\u001b[38;5;241m.\u001b[39m_mgr\u001b[38;5;241m.\u001b[39midelete(loc)\n\u001b[0;32m   4509\u001b[0m \u001b[38;5;66;03m# delete from the caches\u001b[39;00m\n",
      "File \u001b[1;32m~\\anaconda3\\Lib\\site-packages\\pandas\\core\\indexes\\base.py:3812\u001b[0m, in \u001b[0;36mIndex.get_loc\u001b[1;34m(self, key)\u001b[0m\n\u001b[0;32m   3807\u001b[0m     \u001b[38;5;28;01mif\u001b[39;00m \u001b[38;5;28misinstance\u001b[39m(casted_key, \u001b[38;5;28mslice\u001b[39m) \u001b[38;5;129;01mor\u001b[39;00m (\n\u001b[0;32m   3808\u001b[0m         \u001b[38;5;28misinstance\u001b[39m(casted_key, abc\u001b[38;5;241m.\u001b[39mIterable)\n\u001b[0;32m   3809\u001b[0m         \u001b[38;5;129;01mand\u001b[39;00m \u001b[38;5;28many\u001b[39m(\u001b[38;5;28misinstance\u001b[39m(x, \u001b[38;5;28mslice\u001b[39m) \u001b[38;5;28;01mfor\u001b[39;00m x \u001b[38;5;129;01min\u001b[39;00m casted_key)\n\u001b[0;32m   3810\u001b[0m     ):\n\u001b[0;32m   3811\u001b[0m         \u001b[38;5;28;01mraise\u001b[39;00m InvalidIndexError(key)\n\u001b[1;32m-> 3812\u001b[0m     \u001b[38;5;28;01mraise\u001b[39;00m \u001b[38;5;167;01mKeyError\u001b[39;00m(key) \u001b[38;5;28;01mfrom\u001b[39;00m \u001b[38;5;21;01merr\u001b[39;00m\n\u001b[0;32m   3813\u001b[0m \u001b[38;5;28;01mexcept\u001b[39;00m \u001b[38;5;167;01mTypeError\u001b[39;00m:\n\u001b[0;32m   3814\u001b[0m     \u001b[38;5;66;03m# If we have a listlike key, _check_indexing_error will raise\u001b[39;00m\n\u001b[0;32m   3815\u001b[0m     \u001b[38;5;66;03m#  InvalidIndexError. Otherwise we fall through and re-raise\u001b[39;00m\n\u001b[0;32m   3816\u001b[0m     \u001b[38;5;66;03m#  the TypeError.\u001b[39;00m\n\u001b[0;32m   3817\u001b[0m     \u001b[38;5;28mself\u001b[39m\u001b[38;5;241m.\u001b[39m_check_indexing_error(key)\n",
      "\u001b[1;31mKeyError\u001b[0m: 0"
     ]
    }
   ],
   "source": [
    "# 이건 안되고?\n",
    "del user_set[0]"
   ]
  },
  {
   "cell_type": "markdown",
   "id": "7ad3e8ef",
   "metadata": {},
   "source": [
    "**`del user_set['name']`는 되고 `del user_set[0]`은 안되는 이유**\n",
    "- `del user_set['name']` : 인덱스 레이블을 사용하여 해당하는 인덱스와 값을 삭제하는 것\n",
    "- `del user_set[0]` : 정수 인덱스를 사용하여 삭제하는 것이 불가능\n",
    "\n",
    "**정수 인덱스? 인덱스 레이블?**\n",
    "- 인덱스가 문자열일 경우 Series객체는 인덱스를 사용할 수 있다는 원칙이 있다.\n",
    "- Series 객체는 인덱스 레이블 기준 연산이 우선된다.\n",
    "\n",
    "**삭제 연산은 레이블 접근만 허용**\n",
    "- 조회는 데이터를 파괴하지 않기에 정수 인덱스를 통한 방식도 허용하나\n",
    "- del을 이용한 삭제는 인덱스 레이블 방식만 허용한다."
   ]
  },
  {
   "cell_type": "code",
   "execution_count": 75,
   "id": "addbc174",
   "metadata": {},
   "outputs": [
    {
     "data": {
      "text/plain": [
       "0     banana\n",
       "1      apple\n",
       "2    coconut\n",
       "dtype: object"
      ]
     },
     "execution_count": 75,
     "metadata": {},
     "output_type": "execute_result"
    }
   ],
   "source": [
    "# 이해를 돕는 코드 - 정수 인덱스와 인덱스 레이블이 일치하는 상황\n",
    "data = ['banana', 'apple', 'coconut']\n",
    "data_set = pd.Series(['banana', 'apple', 'coconut'], index=[0,1,2])\n",
    "data_set"
   ]
  },
  {
   "cell_type": "code",
   "execution_count": 81,
   "id": "c7bc1fbe",
   "metadata": {},
   "outputs": [
    {
     "data": {
      "text/plain": [
       "name    Spencer\n",
       "age          20\n",
       "job        None\n",
       "dtype: object"
      ]
     },
     "execution_count": 81,
     "metadata": {},
     "output_type": "execute_result"
    }
   ],
   "source": [
    "# 이해를 돕는 코드 - 정수 인덱스와 인덱스 레이블이 다른 상황\n",
    "user = {\"name\": \"Spencer\", \"age\": 20, \"job\": None}\n",
    "user_set = pd.Series(['Spencer','20', None], index=['name', 'age', 'job'])\n",
    "user_set"
   ]
  }
 ],
 "metadata": {
  "kernelspec": {
   "display_name": "Python [conda env:base] *",
   "language": "python",
   "name": "conda-base-py"
  },
  "language_info": {
   "codemirror_mode": {
    "name": "ipython",
    "version": 3
   },
   "file_extension": ".py",
   "mimetype": "text/x-python",
   "name": "python",
   "nbconvert_exporter": "python",
   "pygments_lexer": "ipython3",
   "version": "3.12.7"
  }
 },
 "nbformat": 4,
 "nbformat_minor": 5
}
