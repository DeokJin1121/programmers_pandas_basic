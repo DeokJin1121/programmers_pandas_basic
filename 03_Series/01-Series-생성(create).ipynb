{
 "cells": [
  {
   "cell_type": "markdown",
   "id": "17717bb5",
   "metadata": {},
   "source": [
    "# 시리즈(Series)\n",
    "- Shift + Tab : Docstring\n",
    "- https://pandas.pydata.org/docs/reference/api/pandas.Series.html"
   ]
  },
  {
   "cell_type": "code",
   "execution_count": 2,
   "id": "33eeadcc",
   "metadata": {},
   "outputs": [],
   "source": [
    "# 참조 - import pandas\n",
    "import pandas as pd"
   ]
  },
  {
   "cell_type": "code",
   "execution_count": 3,
   "id": "063378e9",
   "metadata": {},
   "outputs": [
    {
     "data": {
      "text/plain": [
       "[3, 4, 5, 6, 7, 8, 9, 10, 11, 12, 13]"
      ]
     },
     "execution_count": 3,
     "metadata": {},
     "output_type": "execute_result"
    }
   ],
   "source": [
    "numbers = list(range(3, 14))\n",
    "numbers"
   ]
  },
  {
   "cell_type": "code",
   "execution_count": 4,
   "id": "b7eada2a",
   "metadata": {},
   "outputs": [
    {
     "data": {
      "text/plain": [
       "0      3\n",
       "1      4\n",
       "2      5\n",
       "3      6\n",
       "4      7\n",
       "5      8\n",
       "6      9\n",
       "7     10\n",
       "8     11\n",
       "9     12\n",
       "10    13\n",
       "dtype: int64"
      ]
     },
     "execution_count": 4,
     "metadata": {},
     "output_type": "execute_result"
    }
   ],
   "source": [
    "pd.Series(numbers)"
   ]
  },
  {
   "cell_type": "code",
   "execution_count": 8,
   "id": "0fbc7d2e",
   "metadata": {},
   "outputs": [
    {
     "data": {
      "text/plain": [
       "['p', 'r', 'o', 'g', 'r', 'a', 'm', 'm', 'e', 'r', 's']"
      ]
     },
     "execution_count": 8,
     "metadata": {},
     "output_type": "execute_result"
    }
   ],
   "source": [
    "letters = list('programmers')\n",
    "letters"
   ]
  },
  {
   "cell_type": "code",
   "execution_count": 10,
   "id": "bd470c4e",
   "metadata": {},
   "outputs": [
    {
     "data": {
      "text/plain": [
       "3     p\n",
       "4     r\n",
       "5     o\n",
       "6     g\n",
       "7     r\n",
       "8     a\n",
       "9     m\n",
       "10    m\n",
       "11    e\n",
       "12    r\n",
       "13    s\n",
       "dtype: object"
      ]
     },
     "execution_count": 10,
     "metadata": {},
     "output_type": "execute_result"
    }
   ],
   "source": [
    "pd.Series(letters, index=numbers)"
   ]
  },
  {
   "cell_type": "code",
   "execution_count": 12,
   "id": "ce78b7a8",
   "metadata": {},
   "outputs": [
    {
     "data": {
      "text/plain": [
       "['문자1', '문자2', '문자3', '문자4', '문자5', '문자6', '문자7', '문자8', '문자9', '문자10', '문자11']"
      ]
     },
     "execution_count": 12,
     "metadata": {},
     "output_type": "execute_result"
    }
   ],
   "source": [
    "# len(index) == len(values)\n",
    "letters_index = [ f\"문자{i}\" for i in range(1,12) ]\n",
    "letters_index"
   ]
  },
  {
   "cell_type": "code",
   "execution_count": 14,
   "id": "6bcf252b",
   "metadata": {},
   "outputs": [
    {
     "data": {
      "text/plain": [
       "문자1     p\n",
       "문자2     r\n",
       "문자3     o\n",
       "문자4     g\n",
       "문자5     r\n",
       "문자6     a\n",
       "문자7     m\n",
       "문자8     m\n",
       "문자9     e\n",
       "문자10    r\n",
       "문자11    s\n",
       "dtype: object"
      ]
     },
     "execution_count": 14,
     "metadata": {},
     "output_type": "execute_result"
    }
   ],
   "source": [
    "pd.Series(letters, index=letters_index)"
   ]
  },
  {
   "cell_type": "code",
   "execution_count": 16,
   "id": "ce82660d",
   "metadata": {},
   "outputs": [],
   "source": [
    "# Dict -> Series\n",
    "user = {\n",
    "    \"name\": \"Spencer\",\n",
    "    \"age\": 20,\n",
    "    \"job\": None\n",
    "}"
   ]
  },
  {
   "cell_type": "code",
   "execution_count": 18,
   "id": "d66c05bf",
   "metadata": {},
   "outputs": [
    {
     "data": {
      "text/plain": [
       "name    Spencer\n",
       "age          20\n",
       "job        None\n",
       "dtype: object"
      ]
     },
     "execution_count": 18,
     "metadata": {},
     "output_type": "execute_result"
    }
   ],
   "source": [
    "# key->index, value->value\n",
    "pd.Series(user)"
   ]
  },
  {
   "cell_type": "code",
   "execution_count": 20,
   "id": "9c94097f",
   "metadata": {},
   "outputs": [
    {
     "data": {
      "text/plain": [
       "name       Spencer\n",
       "age             20\n",
       "address        NaN\n",
       "dtype: object"
      ]
     },
     "execution_count": 20,
     "metadata": {},
     "output_type": "execute_result"
    }
   ],
   "source": [
    "# Dict->Series 할 때 index를 지정하면\n",
    "pd.Series(user, index=['name', 'age', 'address'])"
   ]
  }
 ],
 "metadata": {
  "kernelspec": {
   "display_name": "Python [conda env:py3_11]",
   "language": "python",
   "name": "conda-env-py3_11-py"
  },
  "language_info": {
   "codemirror_mode": {
    "name": "ipython",
    "version": 3
   },
   "file_extension": ".py",
   "mimetype": "text/x-python",
   "name": "python",
   "nbconvert_exporter": "python",
   "pygments_lexer": "ipython3",
   "version": "3.12.0"
  }
 },
 "nbformat": 4,
 "nbformat_minor": 5
}
